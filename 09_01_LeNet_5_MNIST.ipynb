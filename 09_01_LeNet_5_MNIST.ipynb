{
  "nbformat": 4,
  "nbformat_minor": 0,
  "metadata": {
    "colab": {
      "provenance": [],
      "include_colab_link": true
    },
    "kernelspec": {
      "name": "python3",
      "display_name": "Python 3"
    },
    "language_info": {
      "name": "python"
    }
  },
  "cells": [
    {
      "cell_type": "markdown",
      "metadata": {
        "id": "view-in-github",
        "colab_type": "text"
      },
      "source": [
        "<a href=\"https://colab.research.google.com/github/jafcn09/IA_1/blob/main/09_01_LeNet_5_MNIST.ipynb\" target=\"_parent\"><img src=\"https://colab.research.google.com/assets/colab-badge.svg\" alt=\"Open In Colab\"/></a>"
      ]
    },
    {
      "cell_type": "markdown",
      "source": [
        "# LeNet-5 aplicada a MNIST"
      ],
      "metadata": {
        "id": "V42itHbxMV2V"
      }
    },
    {
      "cell_type": "code",
      "source": [
        "import tensorflow as tf\n",
        "from tensorflow import keras\n",
        "import numpy as np\n",
        "import matplotlib.pyplot as plt"
      ],
      "metadata": {
        "id": "PYBZ7BEaNqEC"
      },
      "execution_count": null,
      "outputs": []
    },
    {
      "cell_type": "code",
      "source": [
        "!pip install visualkeras"
      ],
      "metadata": {
        "colab": {
          "base_uri": "https://localhost:8080/"
        },
        "id": "YVqKlSmbH6Xb",
        "outputId": "096db775-7c75-4c86-c3e9-511047fca242"
      },
      "execution_count": null,
      "outputs": [
        {
          "output_type": "stream",
          "name": "stdout",
          "text": [
            "Looking in indexes: https://pypi.org/simple, https://us-python.pkg.dev/colab-wheels/public/simple/\n",
            "Collecting visualkeras\n",
            "  Downloading visualkeras-0.0.2-py3-none-any.whl (12 kB)\n",
            "Collecting aggdraw>=1.3.11\n",
            "  Downloading aggdraw-1.3.15-cp38-cp38-manylinux_2_17_x86_64.manylinux2014_x86_64.whl (992 kB)\n",
            "\u001b[2K     \u001b[90m━━━━━━━━━━━━━━━━━━━━━━━━━━━━━━━━━━━━━━\u001b[0m \u001b[32m992.2/992.2 KB\u001b[0m \u001b[31m25.6 MB/s\u001b[0m eta \u001b[36m0:00:00\u001b[0m\n",
            "\u001b[?25hRequirement already satisfied: pillow>=6.2.0 in /usr/local/lib/python3.8/dist-packages (from visualkeras) (7.1.2)\n",
            "Requirement already satisfied: numpy>=1.18.1 in /usr/local/lib/python3.8/dist-packages (from visualkeras) (1.21.6)\n",
            "Installing collected packages: aggdraw, visualkeras\n",
            "Successfully installed aggdraw-1.3.15 visualkeras-0.0.2\n"
          ]
        }
      ]
    },
    {
      "cell_type": "code",
      "source": [
        "import visualkeras\n"
      ],
      "metadata": {
        "id": "MYNu5C9xH8N4"
      },
      "execution_count": null,
      "outputs": []
    },
    {
      "cell_type": "markdown",
      "source": [
        "### dataset"
      ],
      "metadata": {
        "id": "WjJdjieykhkC"
      }
    },
    {
      "cell_type": "code",
      "source": [
        "(X_train_full, y_train_full), (X_test, y_test) = keras.datasets.mnist.load_data()\n",
        "print('X_train shape', X_train_full.shape, 'X_test shape', X_test.shape)\n",
        "\n",
        "# grafico de elementos aleatórios del conjunto de entrenamiento\n",
        "import matplotlib.pyplot as plt\n",
        "import random\n",
        "plt.figure(figsize = (12,5))\n",
        "for i in range(8):\n",
        "  ind = random.randint(0, len(X_train_full))\n",
        "  plt.subplot(240+1+i)\n",
        "  plt.imshow(X_train_full[ind])\n"
      ],
      "metadata": {
        "id": "NRixKT0HMX2d",
        "colab": {
          "base_uri": "https://localhost:8080/",
          "height": 373
        },
        "outputId": "601146c2-8726-4954-d8e3-7ef4f8505791"
      },
      "execution_count": null,
      "outputs": [
        {
          "output_type": "stream",
          "name": "stdout",
          "text": [
            "Downloading data from https://storage.googleapis.com/tensorflow/tf-keras-datasets/mnist.npz\n",
            "11490434/11490434 [==============================] - 1s 0us/step\n",
            "X_train shape (60000, 28, 28) X_test shape (10000, 28, 28)\n"
          ]
        },
        {
          "output_type": "display_data",
          "data": {
            "text/plain": [
              "<Figure size 864x360 with 8 Axes>"
            ],
            "image/png": "[encoded data removed]"
          },
          "metadata": {
            "needs_background": "light"
          }
        }
      ]
    },
    {
      "cell_type": "code",
      "source": [
        "X_valid, X_train = X_train_full[:5000] / 255.0, X_train_full[5000:] / 255.0\n",
        "y_valid, y_train = y_train_full[:5000], y_train_full[5000:]\n",
        "X_test = X_test / 255.0"
      ],
      "metadata": {
        "id": "FsZOriJJOW2-"
      },
      "execution_count": null,
      "outputs": []
    },
    {
      "cell_type": "code",
      "source": [
        "#keras.layers.Conv2D(filters = 6, kernel_size = (5,5), padding = 'same',  activation = 'relu', input_shape = (28,28,1))\n",
        "#keras.layers.MaxPooling2D(pool_size = (2,2))\n",
        "\n",
        "model = keras.models.Sequential([\n",
        "    #capa convolucional\n",
        "    keras.layers.Conv2D(6, 5, padding = 'same',  activation = 'relu', input_shape = [28, 28, 1]),\n",
        "    #capa de pooling\n",
        "    keras.layers.AveragePooling2D(2),\n",
        "    #capa convolucional\n",
        "    keras.layers.Conv2D(16, 5, padding = 'same',  activation = 'relu'),\n",
        "    #capa de pooling\n",
        "    keras.layers.AveragePooling2D(2),\n",
        "    #capa convolucional\n",
        "    keras.layers.Conv2D(120, 5, padding = 'same',  activation = 'relu'),\n",
        "    keras.layers.Flatten(),\n",
        "    # red MLP\n",
        "    keras.layers.Dense(84, activation=\"relu\"),\n",
        "    keras.layers.Dense(10, activation=\"softmax\")\n",
        "])\n",
        "model.summary()"
      ],
      "metadata": {
        "id": "DgO25ezSOIhI",
        "colab": {
          "base_uri": "https://localhost:8080/"
        },
        "outputId": "c9ca488f-5e00-4aa4-da87-9e64f664ba5d"
      },
      "execution_count": null,
      "outputs": [
        {
          "output_type": "stream",
          "name": "stdout",
          "text": [
            "Model: \"sequential\"\n",
            "_________________________________________________________________\n",
            " Layer (type)                Output Shape              Param #   \n",
            "=================================================================\n",
            " conv2d (Conv2D)             (None, 28, 28, 6)         156       \n",
            "                                                                 \n",
            " average_pooling2d (AverageP  (None, 14, 14, 6)        0         \n",
            " ooling2D)                                                       \n",
            "                                                                 \n",
            " conv2d_1 (Conv2D)           (None, 14, 14, 16)        2416      \n",
            "                                                                 \n",
            " average_pooling2d_1 (Averag  (None, 7, 7, 16)         0         \n",
            " ePooling2D)                                                     \n",
            "                                                                 \n",
            " conv2d_2 (Conv2D)           (None, 7, 7, 120)         48120     \n",
            "                                                                 \n",
            " flatten (Flatten)           (None, 5880)              0         \n",
            "                                                                 \n",
            " dense (Dense)               (None, 84)                494004    \n",
            "                                                                 \n",
            " dense_1 (Dense)             (None, 10)                850       \n",
            "                                                                 \n",
            "=================================================================\n",
            "Total params: 545,546\n",
            "Trainable params: 545,546\n",
            "Non-trainable params: 0\n",
            "_________________________________________________________________\n"
          ]
        }
      ]
    },
    {
      "cell_type": "code",
      "source": [
        "visualkeras.layered_view(model)"
      ],
      "metadata": {
        "id": "QonzQ8D9ID2t",
        "outputId": "eeacfaab-a6b3-4868-8959-2a33c51ce544",
        "colab": {
          "base_uri": "https://localhost:8080/",
          "height": 167
        }
      },
      "execution_count": null,
      "outputs": [
        {
          "output_type": "execute_result",
          "data": {
            "text/plain": [
              "<PIL.Image.Image image mode=RGBA size=652x150 at 0x7F28490A9040>"
            ],
            "image/png": "[encoded data removed]"
          },
          "metadata": {},
          "execution_count": 10
        }
      ]
    },
    {
      "cell_type": "code",
      "source": [
        "model.compile(loss=\"sparse_categorical_crossentropy\", optimizer=keras.optimizers.SGD(learning_rate=0.01), metrics=[\"accuracy\"])\n",
        "history = model.fit(X_train, y_train, epochs=10, validation_data=(X_valid, y_valid))"
      ],
      "metadata": {
        "id": "fVhssnbPTcjp",
        "colab": {
          "base_uri": "https://localhost:8080/"
        },
        "outputId": "8c421bbf-98af-4682-90b1-bc72047bcbb3"
      },
      "execution_count": null,
      "outputs": [
        {
          "output_type": "stream",
          "name": "stdout",
          "text": [
            "Epoch 1/10\n",
            "1719/1719 [==============================] - 67s 39ms/step - loss: 0.7171 - accuracy: 0.7830 - val_loss: 0.1997 - val_accuracy: 0.9398\n",
            "Epoch 2/10\n",
            "1719/1719 [==============================] - 67s 39ms/step - loss: 0.1776 - accuracy: 0.9454 - val_loss: 0.1217 - val_accuracy: 0.9636\n",
            "Epoch 3/10\n",
            "1719/1719 [==============================] - 67s 39ms/step - loss: 0.1235 - accuracy: 0.9626 - val_loss: 0.0981 - val_accuracy: 0.9706\n",
            "Epoch 4/10\n",
            "1719/1719 [==============================] - 67s 39ms/step - loss: 0.0961 - accuracy: 0.9705 - val_loss: 0.0772 - val_accuracy: 0.9768\n",
            "Epoch 5/10\n",
            "1719/1719 [==============================] - 67s 39ms/step - loss: 0.0796 - accuracy: 0.9748 - val_loss: 0.0681 - val_accuracy: 0.9806\n",
            "Epoch 6/10\n",
            "1719/1719 [==============================] - 67s 39ms/step - loss: 0.0661 - accuracy: 0.9794 - val_loss: 0.0657 - val_accuracy: 0.9784\n",
            "Epoch 7/10\n",
            "1719/1719 [==============================] - 68s 39ms/step - loss: 0.0579 - accuracy: 0.9812 - val_loss: 0.0582 - val_accuracy: 0.9826\n",
            "Epoch 8/10\n",
            "1719/1719 [==============================] - 67s 39ms/step - loss: 0.0517 - accuracy: 0.9833 - val_loss: 0.0553 - val_accuracy: 0.9836\n",
            "Epoch 9/10\n",
            "1719/1719 [==============================] - 69s 40ms/step - loss: 0.0459 - accuracy: 0.9854 - val_loss: 0.0559 - val_accuracy: 0.9848\n",
            "Epoch 10/10\n",
            "1719/1719 [==============================] - 68s 40ms/step - loss: 0.0402 - accuracy: 0.9875 - val_loss: 0.0524 - val_accuracy: 0.9842\n"
          ]
        }
      ]
    }
  ]
}