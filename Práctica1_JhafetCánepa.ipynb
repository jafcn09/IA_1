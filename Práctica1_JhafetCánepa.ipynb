{
  "nbformat": 4,
  "nbformat_minor": 0,
  "metadata": {
    "colab": {
      "provenance": [],
      "include_colab_link": true
    },
    "kernelspec": {
      "name": "python3",
      "display_name": "Python 3"
    },
    "language_info": {
      "name": "python"
    }
  },
  "cells": [
    {
      "cell_type": "markdown",
      "metadata": {
        "id": "view-in-github",
        "colab_type": "text"
      },
      "source": [
        "<a href=\"https://colab.research.google.com/github/jafcn09/IA_1/blob/main/Pr%C3%A1ctica1_JhafetC%C3%A1nepa.ipynb\" target=\"_parent\"><img src=\"https://colab.research.google.com/assets/colab-badge.svg\" alt=\"Open In Colab\"/></a>"
      ]
    },
    {
      "cell_type": "markdown",
      "source": [
        "**PRÁCTICA CALIFICA 1 - AGENTES INTELIGENTES **\n",
        "\n",
        "> INTEGRANTE\n",
        "\n",
        "1.   Jhafet Cánepa Maceda (2113806)\n",
        "\n"
      ],
      "metadata": {
        "id": "mPM0VHplmi9V"
      }
    },
    {
      "cell_type": "markdown",
      "source": [
        "1. Conjunto de datos y métricas para la clasificación"
      ],
      "metadata": {
        "id": "xx5BWLiwjwSj"
      }
    },
    {
      "cell_type": "code",
      "source": [
        "from sklearn import datasets\n",
        "import numpy as np\n",
        "import seaborn as sns\n",
        "from sklearn.metrics import accuracy_score\n",
        "import pandas as pd\n",
        "import matplotlib.pyplot as plt\n",
        "from sklearn.model_selection import train_test_split\n",
        "from sklearn.pipeline import Pipeline\n",
        "from sklearn.preprocessing import StandardScaler, RobustScaler\n",
        "from sklearn.neighbors import KNeighborsClassifier\n",
        "from sklearn.svm import SVC, SVR\n",
        "from sklearn.metrics import SCORERS\n",
        "from sklearn.model_selection import GridSearchCV, cross_val_score, KFold\n",
        "from sklearn.impute import SimpleImputer\n",
        "from sklearn.neural_network import MLPClassifier\n",
        "from sklearn.decomposition import PCA\n",
        "from sklearn.ensemble import RandomForestClassifier\n",
        "from sklearn.model_selection import RandomizedSearchCV\n",
        "from scipy.stats import randint as sp_randint\n",
        "diabetes = datasets.load_diabetes()"
      ],
      "metadata": {
        "id": "sCtEhFHDj5E9"
      },
      "execution_count": 5,
      "outputs": []
    },
    {
      "cell_type": "markdown",
      "source": [
        "2. Datos de entrenamientos"
      ],
      "metadata": {
        "id": "IL6ZwPCQ416o"
      }
    },
    {
      "cell_type": "code",
      "source": [
        "import numpy as np\n",
        "from sklearn.model_selection import train_test_split\n",
        "from sklearn.datasets import load_diabetes\n",
        "\n",
        "\n"
      ],
      "metadata": {
        "id": "NJC-2Hf27uM0"
      },
      "execution_count": 6,
      "outputs": []
    },
    {
      "cell_type": "code",
      "source": [
        "diabetes = load_diabetes()\n",
        "X = diabetes.data\n",
        "y = diabetes.target"
      ],
      "metadata": {
        "id": "77hM_XOw5S5Z"
      },
      "execution_count": 7,
      "outputs": []
    },
    {
      "cell_type": "code",
      "source": [
        "X,y=datasets.load_diabetes(return_X_y=True)\n",
        "X_diabetes, X_test, y_diabetes, y_test = train_test_split(X, y, test_size=0.25)\n",
        "X_diabetes.shape\n",
        "\n",
        "\n"
      ],
      "metadata": {
        "id": "BIVWcxWy2eEW",
        "colab": {
          "base_uri": "https://localhost:8080/"
        },
        "outputId": "862e3031-2ff9-4826-9ba9-aa41d4089001"
      },
      "execution_count": 52,
      "outputs": [
        {
          "output_type": "execute_result",
          "data": {
            "text/plain": [
              "(331, 10)"
            ]
          },
          "metadata": {},
          "execution_count": 52
        }
      ]
    },
    {
      "cell_type": "code",
      "source": [
        "X_diabetes"
      ],
      "metadata": {
        "colab": {
          "base_uri": "https://localhost:8080/"
        },
        "id": "LeCKCiUq3W-N",
        "outputId": "3e2d1049-94e5-4b8e-b6fe-09d5ea90ea42"
      },
      "execution_count": 53,
      "outputs": [
        {
          "output_type": "execute_result",
          "data": {
            "text/plain": [
              "array([[ 0.05987114, -0.04464164, -0.00081689, ...,  0.03430886,\n",
              "         0.02337142,  0.02791705],\n",
              "       [-0.04910502, -0.04464164,  0.0250506 , ..., -0.03949338,\n",
              "        -0.04117617,  0.00720652],\n",
              "       [ 0.04897352, -0.04464164, -0.04285156, ..., -0.00259226,\n",
              "        -0.02595311, -0.0632093 ],\n",
              "       ...,\n",
              "       [ 0.00538306, -0.04464164, -0.05794093, ..., -0.00259226,\n",
              "         0.04289704, -0.08391984],\n",
              "       [ 0.02717829,  0.05068012, -0.00620595, ...,  0.03430886,\n",
              "         0.02929656,  0.03205916],\n",
              "       [ 0.04170844,  0.05068012,  0.01966154, ..., -0.00259226,\n",
              "         0.0311926 ,  0.00720652]])"
            ]
          },
          "metadata": {},
          "execution_count": 53
        }
      ]
    },
    {
      "cell_type": "code",
      "source": [
        "X_diabetes.shape"
      ],
      "metadata": {
        "colab": {
          "base_uri": "https://localhost:8080/"
        },
        "id": "_hc6iNWv3sn1",
        "outputId": "ffe3c479-f373-4544-9df8-d57932569c39"
      },
      "execution_count": 54,
      "outputs": [
        {
          "output_type": "execute_result",
          "data": {
            "text/plain": [
              "(331, 10)"
            ]
          },
          "metadata": {},
          "execution_count": 54
        }
      ]
    },
    {
      "cell_type": "code",
      "source": [
        "X_diabetes.shape"
      ],
      "metadata": {
        "colab": {
          "base_uri": "https://localhost:8080/"
        },
        "id": "KgBtIay43x5a",
        "outputId": "44a83fa4-7e96-4fa5-b5bc-f34049322d42"
      },
      "execution_count": 55,
      "outputs": [
        {
          "output_type": "execute_result",
          "data": {
            "text/plain": [
              "(331, 10)"
            ]
          },
          "metadata": {},
          "execution_count": 55
        }
      ]
    },
    {
      "cell_type": "code",
      "source": [
        "X_diabetes"
      ],
      "metadata": {
        "colab": {
          "base_uri": "https://localhost:8080/"
        },
        "id": "Iq3Lqzgr32EG",
        "outputId": "69d506d9-ad1d-4c0c-c248-92981cf568d6"
      },
      "execution_count": 56,
      "outputs": [
        {
          "output_type": "execute_result",
          "data": {
            "text/plain": [
              "array([[ 0.05987114, -0.04464164, -0.00081689, ...,  0.03430886,\n",
              "         0.02337142,  0.02791705],\n",
              "       [-0.04910502, -0.04464164,  0.0250506 , ..., -0.03949338,\n",
              "        -0.04117617,  0.00720652],\n",
              "       [ 0.04897352, -0.04464164, -0.04285156, ..., -0.00259226,\n",
              "        -0.02595311, -0.0632093 ],\n",
              "       ...,\n",
              "       [ 0.00538306, -0.04464164, -0.05794093, ..., -0.00259226,\n",
              "         0.04289704, -0.08391984],\n",
              "       [ 0.02717829,  0.05068012, -0.00620595, ...,  0.03430886,\n",
              "         0.02929656,  0.03205916],\n",
              "       [ 0.04170844,  0.05068012,  0.01966154, ..., -0.00259226,\n",
              "         0.0311926 ,  0.00720652]])"
            ]
          },
          "metadata": {},
          "execution_count": 56
        }
      ]
    },
    {
      "cell_type": "code",
      "source": [
        "y_diabetes"
      ],
      "metadata": {
        "colab": {
          "base_uri": "https://localhost:8080/"
        },
        "id": "B1bheSLp3-qF",
        "outputId": "074c7dea-6373-4a9b-c0f0-0e180d0a82c2"
      },
      "execution_count": 57,
      "outputs": [
        {
          "output_type": "execute_result",
          "data": {
            "text/plain": [
              "array([115., 182.,  64.,  85., 346., 104., 180., 144.,  92., 155., 202.,\n",
              "        65., 107., 142., 172., 190., 150.,  51., 104., 173., 150., 244.,\n",
              "        88.,  71., 129.,  49.,  59., 132., 115., 232., 222., 164., 296.,\n",
              "        63., 163.,  52., 139., 158.,  72.,  77.,  65., 243., 126., 206.,\n",
              "       332.,  39.,  89., 118.,  55., 127., 221., 144.,  51., 206., 168.,\n",
              "       141.,  96., 109.,  49., 245.,  88., 275., 242.,  84., 200., 293.,\n",
              "       187.,  64., 141.,  89., 109.,  52., 179., 275., 246.,  97.,  55.,\n",
              "       118., 154., 230., 174., 170.,  75., 276., 135.,  68.,  97., 261.,\n",
              "       158.,  63.,  85.,  48., 137., 295.,  71., 253., 270., 151., 274.,\n",
              "       220., 214., 210.,  84.,  52., 297., 102., 232., 225., 257., 189.,\n",
              "       101.,  53., 156., 235., 220., 150., 219., 178., 127., 131., 308.,\n",
              "       283.,  90., 202., 113., 103., 185.,  42.,  91., 181., 121., 136.,\n",
              "        93.,  97., 124.,  74., 137.,  60., 310.,  58.,  68.,  57.,  71.,\n",
              "        69., 104., 129.,  72., 102.,  94., 263., 248.,  81.,  63.,  87.,\n",
              "        77., 140.,  59., 152., 128.,  97., 246., 171.,  66., 191., 113.,\n",
              "       125., 184., 241.,  96.,  69., 138., 281.,  78.,  77., 202., 103.,\n",
              "       201.,  94.,  92.,  71.,  85., 116.,  42., 109., 143., 168.,  61.,\n",
              "        72., 258., 172., 167., 268., 283., 150., 281., 219., 281., 162.,\n",
              "       178., 220., 142.,  86., 196., 235.,  53.,  98., 182., 280., 230.,\n",
              "       208., 109., 186., 160., 217., 258., 197., 242., 185.,  55., 249.,\n",
              "       178., 111., 183.,  90.,  47., 192., 190.,  78., 128., 317., 217.,\n",
              "        72., 148., 277., 257.,  75.,  84., 144., 220., 237., 288.,  44.,\n",
              "       170., 116., 259., 321., 142.,  48., 336., 134., 258., 275.,  48.,\n",
              "       101., 135., 151., 102., 173.,  90., 114.,  70., 110., 281.,  59.,\n",
              "       242., 174.,  84., 310.,  51., 198.,  81., 275.,  25.,  88.,  71.,\n",
              "       233., 108.,  60., 292.,  83., 185., 168., 243., 200.,  61.,  79.,\n",
              "       273., 252., 248., 166., 265., 128.,  95.,  49., 233., 175., 143.,\n",
              "       182.,  99., 138., 259., 196., 216., 245.,  96., 104., 270., 198.,\n",
              "       259.,  90.,  37., 209., 155., 123.,  54., 264.,  67.,  91., 341.,\n",
              "       262.,  83.,  53., 160.,  64., 142., 233., 191., 132., 252., 164.,\n",
              "       178.])"
            ]
          },
          "metadata": {},
          "execution_count": 57
        }
      ]
    },
    {
      "cell_type": "code",
      "source": [
        "y_diabetes.shape"
      ],
      "metadata": {
        "colab": {
          "base_uri": "https://localhost:8080/"
        },
        "id": "2Av0j4dX4G6H",
        "outputId": "900cdc4a-0ac8-4620-d6d0-5a8e2f44634a"
      },
      "execution_count": 58,
      "outputs": [
        {
          "output_type": "execute_result",
          "data": {
            "text/plain": [
              "(331,)"
            ]
          },
          "metadata": {},
          "execution_count": 58
        }
      ]
    },
    {
      "cell_type": "code",
      "source": [
        "y_diabetes"
      ],
      "metadata": {
        "colab": {
          "base_uri": "https://localhost:8080/"
        },
        "id": "o0QR58wW4P6Q",
        "outputId": "9be52c02-dd9f-452c-9b0a-ce77217ce7e9"
      },
      "execution_count": 59,
      "outputs": [
        {
          "output_type": "execute_result",
          "data": {
            "text/plain": [
              "array([115., 182.,  64.,  85., 346., 104., 180., 144.,  92., 155., 202.,\n",
              "        65., 107., 142., 172., 190., 150.,  51., 104., 173., 150., 244.,\n",
              "        88.,  71., 129.,  49.,  59., 132., 115., 232., 222., 164., 296.,\n",
              "        63., 163.,  52., 139., 158.,  72.,  77.,  65., 243., 126., 206.,\n",
              "       332.,  39.,  89., 118.,  55., 127., 221., 144.,  51., 206., 168.,\n",
              "       141.,  96., 109.,  49., 245.,  88., 275., 242.,  84., 200., 293.,\n",
              "       187.,  64., 141.,  89., 109.,  52., 179., 275., 246.,  97.,  55.,\n",
              "       118., 154., 230., 174., 170.,  75., 276., 135.,  68.,  97., 261.,\n",
              "       158.,  63.,  85.,  48., 137., 295.,  71., 253., 270., 151., 274.,\n",
              "       220., 214., 210.,  84.,  52., 297., 102., 232., 225., 257., 189.,\n",
              "       101.,  53., 156., 235., 220., 150., 219., 178., 127., 131., 308.,\n",
              "       283.,  90., 202., 113., 103., 185.,  42.,  91., 181., 121., 136.,\n",
              "        93.,  97., 124.,  74., 137.,  60., 310.,  58.,  68.,  57.,  71.,\n",
              "        69., 104., 129.,  72., 102.,  94., 263., 248.,  81.,  63.,  87.,\n",
              "        77., 140.,  59., 152., 128.,  97., 246., 171.,  66., 191., 113.,\n",
              "       125., 184., 241.,  96.,  69., 138., 281.,  78.,  77., 202., 103.,\n",
              "       201.,  94.,  92.,  71.,  85., 116.,  42., 109., 143., 168.,  61.,\n",
              "        72., 258., 172., 167., 268., 283., 150., 281., 219., 281., 162.,\n",
              "       178., 220., 142.,  86., 196., 235.,  53.,  98., 182., 280., 230.,\n",
              "       208., 109., 186., 160., 217., 258., 197., 242., 185.,  55., 249.,\n",
              "       178., 111., 183.,  90.,  47., 192., 190.,  78., 128., 317., 217.,\n",
              "        72., 148., 277., 257.,  75.,  84., 144., 220., 237., 288.,  44.,\n",
              "       170., 116., 259., 321., 142.,  48., 336., 134., 258., 275.,  48.,\n",
              "       101., 135., 151., 102., 173.,  90., 114.,  70., 110., 281.,  59.,\n",
              "       242., 174.,  84., 310.,  51., 198.,  81., 275.,  25.,  88.,  71.,\n",
              "       233., 108.,  60., 292.,  83., 185., 168., 243., 200.,  61.,  79.,\n",
              "       273., 252., 248., 166., 265., 128.,  95.,  49., 233., 175., 143.,\n",
              "       182.,  99., 138., 259., 196., 216., 245.,  96., 104., 270., 198.,\n",
              "       259.,  90.,  37., 209., 155., 123.,  54., 264.,  67.,  91., 341.,\n",
              "       262.,  83.,  53., 160.,  64., 142., 233., 191., 132., 252., 164.,\n",
              "       178.])"
            ]
          },
          "metadata": {},
          "execution_count": 59
        }
      ]
    },
    {
      "cell_type": "code",
      "source": [
        "test_size"
      ],
      "metadata": {
        "colab": {
          "base_uri": "https://localhost:8080/"
        },
        "id": "HNVg0SPL-Xu2",
        "outputId": "942cd5fc-2b80-4e94-dc9a-31b1aca406f4"
      },
      "execution_count": 60,
      "outputs": [
        {
          "output_type": "execute_result",
          "data": {
            "text/plain": [
              "0.2"
            ]
          },
          "metadata": {},
          "execution_count": 60
        }
      ]
    },
    {
      "cell_type": "markdown",
      "source": [
        "**3. Identificando los hiperparametros de la diabetes:**"
      ],
      "metadata": {
        "id": "RRKOrHKFgkKn"
      }
    },
    {
      "cell_type": "code",
      "source": [
        "from sklearn.datasets import load_diabetes\n",
        "diabetes_dataset = load_diabetes()"
      ],
      "metadata": {
        "id": "DBF2y3xLhVN4"
      },
      "execution_count": 61,
      "outputs": []
    },
    {
      "cell_type": "markdown",
      "source": [
        "Comenzaremos agregando la libreria adecuada sobre la diabetes de su dataset"
      ],
      "metadata": {
        "id": "_xsXJkjtmRZ7"
      }
    },
    {
      "cell_type": "code",
      "source": [
        "print(\"Aqui vamos imprimir las variables de los datos sobre la diabetes:\\n\", diabetes_dataset.keys())"
      ],
      "metadata": {
        "colab": {
          "base_uri": "https://localhost:8080/"
        },
        "id": "33aaffoinBKD",
        "outputId": "9950294d-ba38-4312-e1c3-2dfdd0ceb9f7"
      },
      "execution_count": 62,
      "outputs": [
        {
          "output_type": "stream",
          "name": "stdout",
          "text": [
            "Aqui vamos imprimir las variables de los datos sobre la diabetes:\n",
            " dict_keys(['data', 'target', 'frame', 'DESCR', 'feature_names', 'data_filename', 'target_filename', 'data_module'])\n"
          ]
        }
      ]
    },
    {
      "cell_type": "code",
      "source": [
        "print(\"Obteniendo los datos:\", diabetes_dataset['data'])"
      ],
      "metadata": {
        "colab": {
          "base_uri": "https://localhost:8080/"
        },
        "id": "ayN43wEBtSLy",
        "outputId": "7ed7c28b-03d6-4943-9a91-42c2c0d7dae1"
      },
      "execution_count": 63,
      "outputs": [
        {
          "output_type": "stream",
          "name": "stdout",
          "text": [
            "Obteniendo los datos: [[ 0.03807591  0.05068012  0.06169621 ... -0.00259226  0.01990749\n",
            "  -0.01764613]\n",
            " [-0.00188202 -0.04464164 -0.05147406 ... -0.03949338 -0.06833155\n",
            "  -0.09220405]\n",
            " [ 0.08529891  0.05068012  0.04445121 ... -0.00259226  0.00286131\n",
            "  -0.02593034]\n",
            " ...\n",
            " [ 0.04170844  0.05068012 -0.01590626 ... -0.01107952 -0.04688253\n",
            "   0.01549073]\n",
            " [-0.04547248 -0.04464164  0.03906215 ...  0.02655962  0.04452873\n",
            "  -0.02593034]\n",
            " [-0.04547248 -0.04464164 -0.0730303  ... -0.03949338 -0.00422151\n",
            "   0.00306441]]\n"
          ]
        }
      ]
    },
    {
      "cell_type": "code",
      "source": [
        "print(\"Cual seria el objetivo obtenido:\", diabetes_dataset['target'])"
      ],
      "metadata": {
        "colab": {
          "base_uri": "https://localhost:8080/"
        },
        "id": "0stAWGunqKfF",
        "outputId": "c9485868-99a5-4de1-8e24-d8dcda8286aa"
      },
      "execution_count": 64,
      "outputs": [
        {
          "output_type": "stream",
          "name": "stdout",
          "text": [
            "Cual seria el objetivo obtenido: [151.  75. 141. 206. 135.  97. 138.  63. 110. 310. 101.  69. 179. 185.\n",
            " 118. 171. 166. 144.  97. 168.  68.  49.  68. 245. 184. 202. 137.  85.\n",
            " 131. 283. 129.  59. 341.  87.  65. 102. 265. 276. 252.  90. 100.  55.\n",
            "  61.  92. 259.  53. 190. 142.  75. 142. 155. 225.  59. 104. 182. 128.\n",
            "  52.  37. 170. 170.  61. 144.  52. 128.  71. 163. 150.  97. 160. 178.\n",
            "  48. 270. 202. 111.  85.  42. 170. 200. 252. 113. 143.  51.  52. 210.\n",
            "  65. 141.  55. 134.  42. 111.  98. 164.  48.  96.  90. 162. 150. 279.\n",
            "  92.  83. 128. 102. 302. 198.  95.  53. 134. 144. 232.  81. 104.  59.\n",
            " 246. 297. 258. 229. 275. 281. 179. 200. 200. 173. 180.  84. 121. 161.\n",
            "  99. 109. 115. 268. 274. 158. 107.  83. 103. 272.  85. 280. 336. 281.\n",
            " 118. 317. 235.  60. 174. 259. 178. 128.  96. 126. 288.  88. 292.  71.\n",
            " 197. 186.  25.  84.  96. 195.  53. 217. 172. 131. 214.  59.  70. 220.\n",
            " 268. 152.  47.  74. 295. 101. 151. 127. 237. 225.  81. 151. 107.  64.\n",
            " 138. 185. 265. 101. 137. 143. 141.  79. 292. 178.  91. 116.  86. 122.\n",
            "  72. 129. 142.  90. 158.  39. 196. 222. 277.  99. 196. 202. 155.  77.\n",
            " 191.  70.  73.  49.  65. 263. 248. 296. 214. 185.  78.  93. 252. 150.\n",
            "  77. 208.  77. 108. 160.  53. 220. 154. 259.  90. 246. 124.  67.  72.\n",
            " 257. 262. 275. 177.  71.  47. 187. 125.  78.  51. 258. 215. 303. 243.\n",
            "  91. 150. 310. 153. 346.  63.  89.  50.  39. 103. 308. 116. 145.  74.\n",
            "  45. 115. 264.  87. 202. 127. 182. 241.  66.  94. 283.  64. 102. 200.\n",
            " 265.  94. 230. 181. 156. 233.  60. 219.  80.  68. 332. 248.  84. 200.\n",
            "  55.  85.  89.  31. 129.  83. 275.  65. 198. 236. 253. 124.  44. 172.\n",
            " 114. 142. 109. 180. 144. 163. 147.  97. 220. 190. 109. 191. 122. 230.\n",
            " 242. 248. 249. 192. 131. 237.  78. 135. 244. 199. 270. 164.  72.  96.\n",
            " 306.  91. 214.  95. 216. 263. 178. 113. 200. 139. 139.  88. 148.  88.\n",
            " 243.  71.  77. 109. 272.  60.  54. 221.  90. 311. 281. 182. 321.  58.\n",
            " 262. 206. 233. 242. 123. 167.  63. 197.  71. 168. 140. 217. 121. 235.\n",
            " 245.  40.  52. 104. 132.  88.  69. 219.  72. 201. 110.  51. 277.  63.\n",
            " 118.  69. 273. 258.  43. 198. 242. 232. 175.  93. 168. 275. 293. 281.\n",
            "  72. 140. 189. 181. 209. 136. 261. 113. 131. 174. 257.  55.  84.  42.\n",
            " 146. 212. 233.  91. 111. 152. 120.  67. 310.  94. 183.  66. 173.  72.\n",
            "  49.  64.  48. 178. 104. 132. 220.  57.]\n"
          ]
        }
      ]
    },
    {
      "cell_type": "code",
      "source": [
        "import pandas as pd\n",
        "from sklearn.datasets import load_diabetes\n",
        "\n",
        "# Cargar el conjunto de datos de diabetes en un DataFrame de pandas\n",
        "diabetes_dataset = load_diabetes(as_frame=True)\n",
        "\n",
        "# Imprimir el DataFrame\n",
        "print(\"se va a divir el marco de la siguiente forma:\", diabetes_dataset['frame'])\n"
      ],
      "metadata": {
        "colab": {
          "base_uri": "https://localhost:8080/"
        },
        "id": "h2AYVdWZtfkX",
        "outputId": "b6b8efee-c654-41db-aa02-d348284851ef"
      },
      "execution_count": 65,
      "outputs": [
        {
          "output_type": "stream",
          "name": "stdout",
          "text": [
            "se va a divir el marco de la siguiente forma:           age       sex       bmi        bp        s1        s2        s3  \\\n",
            "0    0.038076  0.050680  0.061696  0.021872 -0.044223 -0.034821 -0.043401   \n",
            "1   -0.001882 -0.044642 -0.051474 -0.026328 -0.008449 -0.019163  0.074412   \n",
            "2    0.085299  0.050680  0.044451 -0.005670 -0.045599 -0.034194 -0.032356   \n",
            "3   -0.089063 -0.044642 -0.011595 -0.036656  0.012191  0.024991 -0.036038   \n",
            "4    0.005383 -0.044642 -0.036385  0.021872  0.003935  0.015596  0.008142   \n",
            "..        ...       ...       ...       ...       ...       ...       ...   \n",
            "437  0.041708  0.050680  0.019662  0.059744 -0.005697 -0.002566 -0.028674   \n",
            "438 -0.005515  0.050680 -0.015906 -0.067642  0.049341  0.079165 -0.028674   \n",
            "439  0.041708  0.050680 -0.015906  0.017293 -0.037344 -0.013840 -0.024993   \n",
            "440 -0.045472 -0.044642  0.039062  0.001215  0.016318  0.015283 -0.028674   \n",
            "441 -0.045472 -0.044642 -0.073030 -0.081413  0.083740  0.027809  0.173816   \n",
            "\n",
            "           s4        s5        s6  target  \n",
            "0   -0.002592  0.019907 -0.017646   151.0  \n",
            "1   -0.039493 -0.068332 -0.092204    75.0  \n",
            "2   -0.002592  0.002861 -0.025930   141.0  \n",
            "3    0.034309  0.022688 -0.009362   206.0  \n",
            "4   -0.002592 -0.031988 -0.046641   135.0  \n",
            "..        ...       ...       ...     ...  \n",
            "437 -0.002592  0.031193  0.007207   178.0  \n",
            "438  0.034309 -0.018114  0.044485   104.0  \n",
            "439 -0.011080 -0.046883  0.015491   132.0  \n",
            "440  0.026560  0.044529 -0.025930   220.0  \n",
            "441 -0.039493 -0.004222  0.003064    57.0  \n",
            "\n",
            "[442 rows x 11 columns]\n"
          ]
        }
      ]
    },
    {
      "cell_type": "code",
      "source": [
        "from sklearn.datasets import load_diabetes\n",
        "\n",
        "# Cargar el conjunto de datos de diabetes\n",
        "diabetes_dataset = load_diabetes()\n",
        "\n",
        "# Imprimir la descripción de los datos\n",
        "print(\"Descripción de los datos que se obtuvieron:\")\n",
        "print(diabetes_dataset.DESCR)\n",
        "\n",
        "\n"
      ],
      "metadata": {
        "colab": {
          "base_uri": "https://localhost:8080/"
        },
        "id": "n_qLZAQLqazK",
        "outputId": "d41c9b24-e6b4-4858-d6cd-1db45139b5d1"
      },
      "execution_count": 66,
      "outputs": [
        {
          "output_type": "stream",
          "name": "stdout",
          "text": [
            "Descripción de los datos que se obtuvieron:\n",
            ".. _diabetes_dataset:\n",
            "\n",
            "Diabetes dataset\n",
            "----------------\n",
            "\n",
            "Ten baseline variables, age, sex, body mass index, average blood\n",
            "pressure, and six blood serum measurements were obtained for each of n =\n",
            "442 diabetes patients, as well as the response of interest, a\n",
            "quantitative measure of disease progression one year after baseline.\n",
            "\n",
            "**Data Set Characteristics:**\n",
            "\n",
            "  :Number of Instances: 442\n",
            "\n",
            "  :Number of Attributes: First 10 columns are numeric predictive values\n",
            "\n",
            "  :Target: Column 11 is a quantitative measure of disease progression one year after baseline\n",
            "\n",
            "  :Attribute Information:\n",
            "      - age     age in years\n",
            "      - sex\n",
            "      - bmi     body mass index\n",
            "      - bp      average blood pressure\n",
            "      - s1      tc, total serum cholesterol\n",
            "      - s2      ldl, low-density lipoproteins\n",
            "      - s3      hdl, high-density lipoproteins\n",
            "      - s4      tch, total cholesterol / HDL\n",
            "      - s5      ltg, possibly log of serum triglycerides level\n",
            "      - s6      glu, blood sugar level\n",
            "\n",
            "Note: Each of these 10 feature variables have been mean centered and scaled by the standard deviation times the square root of `n_samples` (i.e. the sum of squares of each column totals 1).\n",
            "\n",
            "Source URL:\n",
            "https://www4.stat.ncsu.edu/~boos/var.select/diabetes.html\n",
            "\n",
            "For more information see:\n",
            "Bradley Efron, Trevor Hastie, Iain Johnstone and Robert Tibshirani (2004) \"Least Angle Regression,\" Annals of Statistics (with discussion), 407-499.\n",
            "(https://web.stanford.edu/~hastie/Papers/LARS/LeastAngle_2002.pdf)\n",
            "\n"
          ]
        }
      ]
    },
    {
      "cell_type": "code",
      "source": [
        "print(\"Obteniendo el nombre de la funciones:\\n\", diabetes_dataset['feature_names'])"
      ],
      "metadata": {
        "colab": {
          "base_uri": "https://localhost:8080/"
        },
        "id": "keVOjSZVo_H7",
        "outputId": "cc6828cd-8c3c-4efb-8c7d-9e4e0432dc16"
      },
      "execution_count": 67,
      "outputs": [
        {
          "output_type": "stream",
          "name": "stdout",
          "text": [
            "Obteniendo el nombre de la funciones:\n",
            " ['age', 'sex', 'bmi', 'bp', 's1', 's2', 's3', 's4', 's5', 's6']\n"
          ]
        }
      ]
    },
    {
      "cell_type": "code",
      "source": [
        "print(\"Obteniendo el nombre de los datos:\\n\", diabetes_dataset['data_filename'])"
      ],
      "metadata": {
        "colab": {
          "base_uri": "https://localhost:8080/"
        },
        "id": "0lPiOBDGu0Av",
        "outputId": "45adf085-d14f-4e9b-c10c-466a4398f8b9"
      },
      "execution_count": 68,
      "outputs": [
        {
          "output_type": "stream",
          "name": "stdout",
          "text": [
            "Obteniendo el nombre de los datos:\n",
            " diabetes_data_raw.csv.gz\n"
          ]
        }
      ]
    },
    {
      "cell_type": "code",
      "source": [
        "print(\"Obteniendo el nombre del archivo:\", diabetes_dataset['target_filename'])"
      ],
      "metadata": {
        "colab": {
          "base_uri": "https://localhost:8080/"
        },
        "id": "-L_gfPr2oPCY",
        "outputId": "74e5b27b-2f00-4423-edb1-c489249c5c61"
      },
      "execution_count": 69,
      "outputs": [
        {
          "output_type": "stream",
          "name": "stdout",
          "text": [
            "Obteniendo el nombre del archivo: diabetes_target.csv.gz\n"
          ]
        }
      ]
    },
    {
      "cell_type": "markdown",
      "source": [
        " **4. Implementar validación de modelo**"
      ],
      "metadata": {
        "id": "wfMbMkLivNd8"
      }
    },
    {
      "cell_type": "markdown",
      "source": [
        "4.1 Estrategia Gridsearch"
      ],
      "metadata": {
        "id": "odzJo2EP2n7J"
      }
    },
    {
      "cell_type": "markdown",
      "source": [
        "4.1.2  35 trials de validación cruzada no anidada (non-nested cross-validation)"
      ],
      "metadata": {
        "id": "8ZHXriaJ20jL"
      }
    },
    {
      "cell_type": "code",
      "source": [
        "non_nested_scoresG = []\n",
        "nested_scoresG = []\n"
      ],
      "metadata": {
        "id": "TlNLlxZQ3G02"
      },
      "execution_count": 79,
      "outputs": []
    },
    {
      "cell_type": "code",
      "source": [
        "\n",
        "from sklearn.model_selection import train_test_split\n",
        "from sklearn.datasets import load_diabetes\n",
        "from matplotlib import pyplot as plt\n",
        "from sklearn.svm import SVC\n",
        "from sklearn.model_selection import GridSearchCV, cross_val_score, KFold\n",
        "import numpy as np\n",
        "\n",
        "\n",
        "print(__doc__)\n",
        "\n",
        "# Number of random trials\n",
        "NUM_TRIALS = 35\n",
        "\n",
        "#variables declaradas\n",
        "X_diabetes = X_test\n",
        "y_diabetes  = y_test\n",
        "\n",
        "\n",
        "\n"
      ],
      "metadata": {
        "colab": {
          "base_uri": "https://localhost:8080/"
        },
        "id": "wChD96nRaEV_",
        "outputId": "cf03f3fd-00c7-40c1-e4bb-aae3cbede8d4"
      },
      "execution_count": 78,
      "outputs": [
        {
          "output_type": "stream",
          "name": "stdout",
          "text": [
            "Automatically created module for IPython interactive environment\n"
          ]
        }
      ]
    },
    {
      "cell_type": "code",
      "source": [
        "\n",
        "for i in range(NUM_TRIALS):\n",
        "\n",
        "    # Choose cross-validation techniques for the inner and outer loops,\n",
        "    # independently of the dataset.\n",
        "    # E.g \"GroupKFold\", \"LeaveOneOut\", \"LeaveOneGroupOut\", etc.\n",
        "    inner_cv = KFold(n_splits=3, shuffle=True) #model selection\n",
        "    outer_cv = KFold(n_splits=3, shuffle=True) #model validation\n",
        "\n",
        "\n",
        "    clf = GridSearchCV(estimator=model_pipeline, param_grid=grid_list, cv=inner_cv, scoring = metric)\n",
        "    clf.fit(X_diabetes, y_diabetes)\n",
        "\n",
        "    non_nested_scoresG.append(clf.best_score_*-1)\n",
        "\n"
      ],
      "metadata": {
        "id": "7qtsGXBblqYJ"
      },
      "execution_count": 80,
      "outputs": []
    },
    {
      "cell_type": "code",
      "source": [
        "average_errorGn = np.mean(non_nested_scoresG)\n",
        "std_scoreGn = np.std(non_nested_scoresG)\n",
        "print(\"Error estimado es:\", non_nested_scoresG);\n",
        "print(\"Promedio del error:\", average_errorGn)\n",
        "print(\"Desviacion estandar:\", std_scoreGn)"
      ],
      "metadata": {
        "colab": {
          "base_uri": "https://localhost:8080/"
        },
        "id": "8qXMMITjebgm",
        "outputId": "f5bd8fcf-9b23-41d1-d7d8-da03e8ae3450"
      },
      "execution_count": 81,
      "outputs": [
        {
          "output_type": "stream",
          "name": "stdout",
          "text": [
            "Error estimado es: [58.47210407676571, 61.213089538449346, 62.288555317031886, 59.182393967853976, 57.717906338083, 61.22133179608934, 58.81615592391545, 63.965373915673034, 60.631949446504, 62.46729056109583, 58.889764930367754, 60.39479577338167, 61.28688957411061, 59.364869653698996, 57.933940024109425, 60.21783288823004, 59.889437372686615, 57.79971661881151, 58.52028912363895, 59.958791644333616, 60.85533795479527, 62.11152473067974, 61.296907118625676, 61.92631161477368, 59.55519207575609, 61.695697121415286, 59.97172211770032, 59.63838240284904, 58.31953198236056, 62.81509823432805, 58.92016448087426, 57.69245602342831, 63.73835863606539, 60.88329200158271, 58.76255713751784]\n",
            "Promedio del error: 60.24042891764523\n",
            "Desviacion estandar: 1.6913531417373275\n"
          ]
        }
      ]
    },
    {
      "cell_type": "markdown",
      "source": [
        "** 4.1.3 35 trials Validación cruzada anidada**"
      ],
      "metadata": {
        "id": "D7UPhTo9hVD0"
      }
    },
    {
      "cell_type": "markdown",
      "source": [],
      "metadata": {
        "id": "9ZETWWfa8uvU"
      }
    },
    {
      "cell_type": "code",
      "source": [
        "for i in range(NUM_TRIALS):\n",
        "  #modelo seleccion\n",
        "    inner_cv = KFold(n_splits=3, shuffle=True)\n",
        "    #modelo validacion\n",
        "    outer_cv = KFold(n_splits=3, shuffle=True)\n",
        "\n",
        "    clf = GridSearchCV(estimator=model_pipeline, param_grid=grid_list, cv=inner_cv, scoring =metric)\n",
        "    clf.fit(X_diabetes, y_diabetes)\n",
        "    nested_scoreG = cross_val_score(clf, X=X_diabetes, y=y_diabetes, cv=outer_cv)\n",
        "    nested_scoresG.append(nested_scoreG)\n",
        "\n"
      ],
      "metadata": {
        "id": "9moOVaSrSaS8"
      },
      "execution_count": 82,
      "outputs": []
    },
    {
      "cell_type": "code",
      "source": [
        "average_errorG = np.mean(nested_scoresG)\n",
        "std_scoreG = np.std(nested_scoresG)\n",
        "print(\"Estimación del error esperado de generalización:\", nested_scoresG)\n",
        "print(\"Promedio del error de generalización estimado:\", average_errorG)\n",
        "print(\"Desviacion estandar:\", std_scoreG)"
      ],
      "metadata": {
        "colab": {
          "base_uri": "https://localhost:8080/"
        },
        "id": "bBlObzJSgjh4",
        "outputId": "75b97a50-102f-40aa-8efd-6418c0b5f109"
      },
      "execution_count": 83,
      "outputs": [
        {
          "output_type": "stream",
          "name": "stdout",
          "text": [
            "Estimación del error esperado de generalización: [array([-66.30186556, -51.73529925, -60.4983341 ]), array([-65.74786381, -74.22180173, -52.42387222]), array([-62.4204815 , -72.43156517, -52.31149108]), array([-56.85543655, -60.86599316, -59.59730244]), array([-62.55725017, -58.15782116, -62.14151318]), array([-74.87451994, -59.20643576, -51.61548619]), array([-71.93673866, -59.62851365, -65.53899684]), array([-57.83765267, -70.4322771 , -60.80483885]), array([-65.23627839, -53.96540787, -63.01879823]), array([-59.23918274, -76.37309845, -54.44046375]), array([-47.47245787, -66.10345027, -71.17418841]), array([-62.20490474, -58.95141902, -62.08228458]), array([-61.72817622, -55.02230925, -67.90203533]), array([-72.11487632, -62.78762949, -52.08294309]), array([-60.25022719, -65.03157948, -53.97785965]), array([-62.26923168, -75.52239321, -52.85881772]), array([-53.88917842, -66.95824114, -62.12408974]), array([-55.15480163, -58.49022682, -76.92806208]), array([-63.40785936, -61.4239377 , -54.73243467]), array([-58.2146423 , -59.99595318, -59.98306551]), array([-52.00152528, -61.5500263 , -63.25669432]), array([-66.71540917, -65.96658154, -57.41854154]), array([-68.78481411, -55.37522172, -56.23612558]), array([-63.5142284 , -60.27118109, -54.85058901]), array([-61.19249563, -52.70950009, -63.46495165]), array([-56.11316527, -78.21908502, -56.15041763]), array([-50.57099697, -65.82579797, -60.38152595]), array([-60.96268844, -55.67602139, -65.1896649 ]), array([-62.59784097, -58.67386919, -55.29953885]), array([-62.6367785 , -60.80364979, -59.83167543]), array([-53.98605956, -63.28984404, -68.89636235]), array([-76.62727487, -53.77242684, -62.81119576]), array([-60.58974964, -59.30008696, -56.99962355]), array([-53.13707764, -70.35615279, -62.90188039]), array([-75.48720879, -57.04372758, -63.24802114])]\n",
            "Promedio del error de generalización estimado: -61.46612523656947\n",
            "Desviacion estandar: 6.653463201150299\n"
          ]
        }
      ]
    },
    {
      "cell_type": "markdown",
      "source": [
        "**4.2.1 Estrategias de  Random Search**"
      ],
      "metadata": {
        "id": "8BRVxklPnBnz"
      }
    },
    {
      "cell_type": "code",
      "source": [
        "from sklearn.model_selection import train_test_split\n",
        "from sklearn.datasets import load_diabetes\n",
        "from matplotlib import pyplot as plt\n",
        "from sklearn.svm import SVC\n",
        "from sklearn.model_selection import RandomizedSearchCV, cross_val_score, KFold\n",
        "import numpy as np\n",
        "\n",
        "\n",
        "print(__doc__)\n",
        "\n",
        "# Number of random trials\n",
        "NUM_TRIALS = 35\n",
        "\n",
        "#variables declaradas\n",
        "X_diabetes = X_test\n",
        "y_diabetes  = y_test"
      ],
      "metadata": {
        "colab": {
          "base_uri": "https://localhost:8080/"
        },
        "id": "9s2GywEO-dTJ",
        "outputId": "adefa04b-c99d-45e3-b5dc-13a23df2b5b2"
      },
      "execution_count": 84,
      "outputs": [
        {
          "output_type": "stream",
          "name": "stdout",
          "text": [
            "Automatically created module for IPython interactive environment\n"
          ]
        }
      ]
    },
    {
      "cell_type": "markdown",
      "source": [
        "**4.2.2 35 trials de validación cruzada  no anidada**"
      ],
      "metadata": {
        "id": "5q7CtUtynZq2"
      }
    },
    {
      "cell_type": "code",
      "source": [
        "from sklearn.datasets import load_diabetes\n",
        "from sklearn.model_selection import train_test_split, RandomizedSearchCV\n",
        "from sklearn.ensemble import RandomForestRegressor\n",
        "import numpy as np\n",
        "\n",
        "# Cargar el conjunto de datos Diabetes\n",
        "diabetes = load_diabetes()\n",
        "X, y = diabetes.data, diabetes.target\n",
        "\n",
        "# Dividir los datos en conjuntos de entrenamiento y prueba\n",
        "X_diabetes, X_test, y_diabetes, y_test = train_test_split(X, y, test_size=0.2, random_state=35)\n"
      ],
      "metadata": {
        "id": "HjhIfUAt_9Xu"
      },
      "execution_count": 85,
      "outputs": []
    },
    {
      "cell_type": "code",
      "source": [
        "\n",
        "model = RandomForestRegressor()\n",
        "param_dist = {\n",
        "    'n_estimators': [10, 50, 100, 200],\n",
        "    'max_depth': [None, 10, 20, 30, 40, 50]\n",
        "}\n",
        "\n"
      ],
      "metadata": {
        "id": "TcJSGTzgANoS"
      },
      "execution_count": 86,
      "outputs": []
    },
    {
      "cell_type": "code",
      "source": [
        "# Realizar Random Search con 35 trials\n",
        "random_search = RandomizedSearchCV(model, param_distributions=param_dist, n_iter=3, cv=5, n_jobs=-1, random_state=35)\n",
        "random_search.fit(X_diabetes, y_diabetes)\n"
      ],
      "metadata": {
        "colab": {
          "base_uri": "https://localhost:8080/",
          "height": 117
        },
        "id": "-3eKhtxYAQ-J",
        "outputId": "4af64411-e2e3-467b-f67e-b9d0570917c4"
      },
      "execution_count": 87,
      "outputs": [
        {
          "output_type": "execute_result",
          "data": {
            "text/plain": [
              "RandomizedSearchCV(cv=5, estimator=RandomForestRegressor(), n_iter=3, n_jobs=-1,\n",
              "                   param_distributions={'max_depth': [None, 10, 20, 30, 40, 50],\n",
              "                                        'n_estimators': [10, 50, 100, 200]},\n",
              "                   random_state=35)"
            ],
            "text/html": [
              "<style>#sk-container-id-1 {color: black;background-color: white;}#sk-container-id-1 pre{padding: 0;}#sk-container-id-1 div.sk-toggleable {background-color: white;}#sk-container-id-1 label.sk-toggleable__label {cursor: pointer;display: block;width: 100%;margin-bottom: 0;padding: 0.3em;box-sizing: border-box;text-align: center;}#sk-container-id-1 label.sk-toggleable__label-arrow:before {content: \"▸\";float: left;margin-right: 0.25em;color: #696969;}#sk-container-id-1 label.sk-toggleable__label-arrow:hover:before {color: black;}#sk-container-id-1 div.sk-estimator:hover label.sk-toggleable__label-arrow:before {color: black;}#sk-container-id-1 div.sk-toggleable__content {max-height: 0;max-width: 0;overflow: hidden;text-align: left;background-color: #f0f8ff;}#sk-container-id-1 div.sk-toggleable__content pre {margin: 0.2em;color: black;border-radius: 0.25em;background-color: #f0f8ff;}#sk-container-id-1 input.sk-toggleable__control:checked~div.sk-toggleable__content {max-height: 200px;max-width: 100%;overflow: auto;}#sk-container-id-1 input.sk-toggleable__control:checked~label.sk-toggleable__label-arrow:before {content: \"▾\";}#sk-container-id-1 div.sk-estimator input.sk-toggleable__control:checked~label.sk-toggleable__label {background-color: #d4ebff;}#sk-container-id-1 div.sk-label input.sk-toggleable__control:checked~label.sk-toggleable__label {background-color: #d4ebff;}#sk-container-id-1 input.sk-hidden--visually {border: 0;clip: rect(1px 1px 1px 1px);clip: rect(1px, 1px, 1px, 1px);height: 1px;margin: -1px;overflow: hidden;padding: 0;position: absolute;width: 1px;}#sk-container-id-1 div.sk-estimator {font-family: monospace;background-color: #f0f8ff;border: 1px dotted black;border-radius: 0.25em;box-sizing: border-box;margin-bottom: 0.5em;}#sk-container-id-1 div.sk-estimator:hover {background-color: #d4ebff;}#sk-container-id-1 div.sk-parallel-item::after {content: \"\";width: 100%;border-bottom: 1px solid gray;flex-grow: 1;}#sk-container-id-1 div.sk-label:hover label.sk-toggleable__label {background-color: #d4ebff;}#sk-container-id-1 div.sk-serial::before {content: \"\";position: absolute;border-left: 1px solid gray;box-sizing: border-box;top: 0;bottom: 0;left: 50%;z-index: 0;}#sk-container-id-1 div.sk-serial {display: flex;flex-direction: column;align-items: center;background-color: white;padding-right: 0.2em;padding-left: 0.2em;position: relative;}#sk-container-id-1 div.sk-item {position: relative;z-index: 1;}#sk-container-id-1 div.sk-parallel {display: flex;align-items: stretch;justify-content: center;background-color: white;position: relative;}#sk-container-id-1 div.sk-item::before, #sk-container-id-1 div.sk-parallel-item::before {content: \"\";position: absolute;border-left: 1px solid gray;box-sizing: border-box;top: 0;bottom: 0;left: 50%;z-index: -1;}#sk-container-id-1 div.sk-parallel-item {display: flex;flex-direction: column;z-index: 1;position: relative;background-color: white;}#sk-container-id-1 div.sk-parallel-item:first-child::after {align-self: flex-end;width: 50%;}#sk-container-id-1 div.sk-parallel-item:last-child::after {align-self: flex-start;width: 50%;}#sk-container-id-1 div.sk-parallel-item:only-child::after {width: 0;}#sk-container-id-1 div.sk-dashed-wrapped {border: 1px dashed gray;margin: 0 0.4em 0.5em 0.4em;box-sizing: border-box;padding-bottom: 0.4em;background-color: white;}#sk-container-id-1 div.sk-label label {font-family: monospace;font-weight: bold;display: inline-block;line-height: 1.2em;}#sk-container-id-1 div.sk-label-container {text-align: center;}#sk-container-id-1 div.sk-container {/* jupyter's `normalize.less` sets `[hidden] { display: none; }` but bootstrap.min.css set `[hidden] { display: none !important; }` so we also need the `!important` here to be able to override the default hidden behavior on the sphinx rendered scikit-learn.org. See: https://github.com/scikit-learn/scikit-learn/issues/21755 */display: inline-block !important;position: relative;}#sk-container-id-1 div.sk-text-repr-fallback {display: none;}</style><div id=\"sk-container-id-1\" class=\"sk-top-container\"><div class=\"sk-text-repr-fallback\"><pre>RandomizedSearchCV(cv=5, estimator=RandomForestRegressor(), n_iter=3, n_jobs=-1,\n",
              "                   param_distributions={&#x27;max_depth&#x27;: [None, 10, 20, 30, 40, 50],\n",
              "                                        &#x27;n_estimators&#x27;: [10, 50, 100, 200]},\n",
              "                   random_state=35)</pre><b>In a Jupyter environment, please rerun this cell to show the HTML representation or trust the notebook. <br />On GitHub, the HTML representation is unable to render, please try loading this page with nbviewer.org.</b></div><div class=\"sk-container\" hidden><div class=\"sk-item sk-dashed-wrapped\"><div class=\"sk-label-container\"><div class=\"sk-label sk-toggleable\"><input class=\"sk-toggleable__control sk-hidden--visually\" id=\"sk-estimator-id-1\" type=\"checkbox\" ><label for=\"sk-estimator-id-1\" class=\"sk-toggleable__label sk-toggleable__label-arrow\">RandomizedSearchCV</label><div class=\"sk-toggleable__content\"><pre>RandomizedSearchCV(cv=5, estimator=RandomForestRegressor(), n_iter=3, n_jobs=-1,\n",
              "                   param_distributions={&#x27;max_depth&#x27;: [None, 10, 20, 30, 40, 50],\n",
              "                                        &#x27;n_estimators&#x27;: [10, 50, 100, 200]},\n",
              "                   random_state=35)</pre></div></div></div><div class=\"sk-parallel\"><div class=\"sk-parallel-item\"><div class=\"sk-item\"><div class=\"sk-label-container\"><div class=\"sk-label sk-toggleable\"><input class=\"sk-toggleable__control sk-hidden--visually\" id=\"sk-estimator-id-2\" type=\"checkbox\" ><label for=\"sk-estimator-id-2\" class=\"sk-toggleable__label sk-toggleable__label-arrow\">estimator: RandomForestRegressor</label><div class=\"sk-toggleable__content\"><pre>RandomForestRegressor()</pre></div></div></div><div class=\"sk-serial\"><div class=\"sk-item\"><div class=\"sk-estimator sk-toggleable\"><input class=\"sk-toggleable__control sk-hidden--visually\" id=\"sk-estimator-id-3\" type=\"checkbox\" ><label for=\"sk-estimator-id-3\" class=\"sk-toggleable__label sk-toggleable__label-arrow\">RandomForestRegressor</label><div class=\"sk-toggleable__content\"><pre>RandomForestRegressor()</pre></div></div></div></div></div></div></div></div></div></div>"
            ]
          },
          "metadata": {},
          "execution_count": 87
        }
      ]
    },
    {
      "cell_type": "code",
      "source": [
        "best_model = random_search.best_estimator_\n",
        "test_score = best_model.score(X_test, y_test)\n",
        "print(\"\\nPuntuación  de la prueba:\", test_score)\n"
      ],
      "metadata": {
        "colab": {
          "base_uri": "https://localhost:8080/"
        },
        "id": "nqq55HFBBNte",
        "outputId": "8a51f90f-91df-48e8-a00f-a3b98672f172"
      },
      "execution_count": 88,
      "outputs": [
        {
          "output_type": "stream",
          "name": "stdout",
          "text": [
            "\n",
            "Puntuación  de la prueba: 0.34700291267088723\n"
          ]
        }
      ]
    },
    {
      "cell_type": "code",
      "source": [
        "\n",
        "print(\"\\nPuntuación del mejor modelo:\")\n",
        "print(random_search.best_score_)\n"
      ],
      "metadata": {
        "colab": {
          "base_uri": "https://localhost:8080/"
        },
        "id": "78bfvekoAn8I",
        "outputId": "b59ee461-e908-45d4-c5ad-c5a6f4a31161"
      },
      "execution_count": 89,
      "outputs": [
        {
          "output_type": "stream",
          "name": "stdout",
          "text": [
            "\n",
            "Puntuación del mejor modelo:\n",
            "0.4591697052797235\n"
          ]
        }
      ]
    },
    {
      "cell_type": "markdown",
      "source": [
        "**4.2.3  35 trials de validación cruzada  anidada **"
      ],
      "metadata": {
        "id": "DIbnDtosI8eY"
      }
    },
    {
      "cell_type": "code",
      "source": [
        "from sklearn.datasets import load_diabetes\n",
        "from sklearn.model_selection import KFold, RandomizedSearchCV\n",
        "from sklearn.ensemble import RandomForestRegressor\n",
        "import numpy as np\n",
        "\n",
        "# Cargar el conjunto de datos Diabetes\n",
        "diabetes = load_diabetes()\n",
        "X, y = diabetes.data, diabetes.target"
      ],
      "metadata": {
        "id": "eVAGrF_SGyLv"
      },
      "execution_count": 90,
      "outputs": []
    },
    {
      "cell_type": "code",
      "source": [
        "# Definir el modelo y los hiperparámetros para Random Search\n",
        "model = RandomForestRegressor()\n",
        "param_dist = {\n",
        "    'n_estimators': [10, 50, 100, 200],\n",
        "    'max_depth': [None, 10, 20, 30, 40, 50]\n",
        "}\n",
        "\n",
        "# Configurar la estrategia de validación cruzada anidada\n",
        "outer_cv = KFold(n_splits=5, shuffle=True, random_state=42)\n",
        "inner_cv = KFold(n_splits=3, shuffle=True, random_state=42)\n",
        "\n",
        "# Listas para almacenar los resultados de las iteraciones\n",
        "outer_scores = []\n",
        "best_models = []"
      ],
      "metadata": {
        "id": "lfqDcKKrG4dp"
      },
      "execution_count": 91,
      "outputs": []
    },
    {
      "cell_type": "code",
      "source": [
        "# Realizar nested cross-validation\n",
        "for train_index, test_index in outer_cv.split(X):\n",
        "    X_train_outer, X_test_outer = X[train_index], X[test_index]\n",
        "    y_train_outer, y_test_outer = y[train_index], y[test_index]\n",
        "\n",
        "    # Realizar Random Search en el conjunto de entrenamiento interno\n",
        "    random_search = RandomizedSearchCV(model, param_distributions=param_dist, n_iter=5, cv=inner_cv, n_jobs=-1, random_state=35)\n",
        "    random_search.fit(X_train_outer, y_train_outer)\n",
        "# Obtener el mejor modelo\n",
        "    best_model = random_search.best_estimator_\n",
        "    best_models.append(best_model)\n",
        "\n",
        "    # Evaluar el mejor modelo en el conjunto de prueba externo\n",
        "    outer_score = best_model.score(X_test_outer, y_test_outer)\n",
        "    outer_scores.append(outer_score)\n",
        "\n",
        "# Calcular el rendimiento promedio\n",
        "mean_score = np.mean(outer_scores)"
      ],
      "metadata": {
        "id": "02qAvGhPG7Nq"
      },
      "execution_count": 92,
      "outputs": []
    },
    {
      "cell_type": "code",
      "source": [
        "\n",
        "# Imprimir los resultados\n",
        "print(\"Puntuaciones en las iteraciones\", outer_scores)\n",
        "print(\"\\nRendimiento promedio:\", mean_score)\n",
        "\n"
      ],
      "metadata": {
        "colab": {
          "base_uri": "https://localhost:8080/"
        },
        "id": "_vQ2x0hQE0ZZ",
        "outputId": "55c3fb65-80e2-4b88-ac6d-26f3bcb9f714"
      },
      "execution_count": 93,
      "outputs": [
        {
          "output_type": "stream",
          "name": "stdout",
          "text": [
            "Puntuaciones en las iteraciones [0.42055110422297126, 0.531981853058079, 0.2830459594732798, 0.47493609247160085, 0.3948547283508401]\n",
            "\n",
            "Rendimiento promedio: 0.42107394751535415\n"
          ]
        }
      ]
    },
    {
      "cell_type": "markdown",
      "source": [
        "5. Graficar los resultados"
      ],
      "metadata": {
        "id": "eiS3j6awZXZO"
      }
    },
    {
      "cell_type": "markdown",
      "source": [
        "**5.1 BOXPLOT**"
      ],
      "metadata": {
        "id": "GdXoU3ZUZdy_"
      }
    },
    {
      "cell_type": "markdown",
      "source": [
        "**5.1.1 Gridsearch**"
      ],
      "metadata": {
        "id": "TeW4_gmaZ6Yq"
      }
    },
    {
      "cell_type": "code",
      "source": [
        "print(non_nested_scoresG)"
      ],
      "metadata": {
        "colab": {
          "base_uri": "https://localhost:8080/"
        },
        "id": "6bHZTdN2Z9pI",
        "outputId": "da5dfb7a-b835-4309-ea71-6a65bd038609"
      },
      "execution_count": 94,
      "outputs": [
        {
          "output_type": "stream",
          "name": "stdout",
          "text": [
            "[58.47210407676571, 61.213089538449346, 62.288555317031886, 59.182393967853976, 57.717906338083, 61.22133179608934, 58.81615592391545, 63.965373915673034, 60.631949446504, 62.46729056109583, 58.889764930367754, 60.39479577338167, 61.28688957411061, 59.364869653698996, 57.933940024109425, 60.21783288823004, 59.889437372686615, 57.79971661881151, 58.52028912363895, 59.958791644333616, 60.85533795479527, 62.11152473067974, 61.296907118625676, 61.92631161477368, 59.55519207575609, 61.695697121415286, 59.97172211770032, 59.63838240284904, 58.31953198236056, 62.81509823432805, 58.92016448087426, 57.69245602342831, 63.73835863606539, 60.88329200158271, 58.76255713751784]\n"
          ]
        }
      ]
    },
    {
      "cell_type": "code",
      "source": [
        "\n",
        "fig, ax = plt.subplots(figsize=(13, 10))\n",
        "import pandas as pd\n",
        "pd.DataFrame(nested_scoresG).transpose().boxplot(ax=ax)\n",
        "\n",
        "# Ajustar las etiquetas del eje y\n",
        "ax.set_ylabel('Puntaje de Error')\n",
        "\n",
        "ax.set_title('Distribución de puntajes de error (Nested ScoresG, tres iteraciones, y Non-Nested ScoresG)')"
      ],
      "metadata": {
        "id": "3-jaMB4PicxT",
        "colab": {
          "base_uri": "https://localhost:8080/",
          "height": 870
        },
        "outputId": "3b96511c-0b29-45b1-b659-d1bfda4ef002"
      },
      "execution_count": 102,
      "outputs": [
        {
          "output_type": "execute_result",
          "data": {
            "text/plain": [
              "Text(0.5, 1.0, 'Distribución de puntajes de error (Nested ScoresG, tres iteraciones, y Non-Nested ScoresG)')"
            ]
          },
          "metadata": {},
          "execution_count": 102
        },
        {
          "output_type": "display_data",
          "data": {
            "text/plain": [
              "<Figure size 1300x1000 with 1 Axes>"
            ],
            "image/png": "[encoded data removed]"
          },
          "metadata": {}
        }
      ]
    },
    {
      "cell_type": "code",
      "source": [
        "df_nested_scoresG = pd.DataFrame(nested_scoresG)\n",
        "plt.figure(figsize=(10, 6))\n",
        "sns.violinplot(data=df_nested_scoresG)\n",
        "plt.xlabel('Iteración')\n",
        "plt.ylabel('Puntajes de Error')\n",
        "plt.title('Distribución de Puntajes de Error - Nested Scores')\n",
        "plt.show()"
      ],
      "metadata": {
        "colab": {
          "base_uri": "https://localhost:8080/",
          "height": 565
        },
        "id": "10BOjqLvjXtz",
        "outputId": "5c685bae-2f20-4db8-f36e-66e969095906"
      },
      "execution_count": 103,
      "outputs": [
        {
          "output_type": "display_data",
          "data": {
            "text/plain": [
              "<Figure size 1000x600 with 1 Axes>"
            ],
            "image/png": "[encoded data removed]"
          },
          "metadata": {}
        }
      ]
    },
    {
      "cell_type": "markdown",
      "source": [
        "**5.1.2  Coarse finer search**"
      ],
      "metadata": {
        "id": "wzaUiRz9woN0"
      }
    },
    {
      "cell_type": "code",
      "source": [
        "print(outer_scores)"
      ],
      "metadata": {
        "colab": {
          "base_uri": "https://localhost:8080/"
        },
        "id": "JHyQT8Zkw63u",
        "outputId": "03de6c18-e430-4be3-823a-f01793f769e8"
      },
      "execution_count": 104,
      "outputs": [
        {
          "output_type": "stream",
          "name": "stdout",
          "text": [
            "[0.42055110422297126, 0.531981853058079, 0.2830459594732798, 0.47493609247160085, 0.3948547283508401]\n"
          ]
        }
      ]
    },
    {
      "cell_type": "code",
      "source": [
        "fig, ax = plt.subplots(figsize=(13, 10))\n",
        "import pandas as pd\n",
        "pd.DataFrame(outer_scores).transpose().boxplot(ax=ax)\n",
        "\n",
        "# Ajustar las etiquetas del eje y\n",
        "ax.set_ylabel('Puntaje de Error')\n",
        "\n",
        "ax.set_title('Distribución de puntajes de error (Nested ScoresG, tres iteraciones, y Non-Nested ScoresG)')"
      ],
      "metadata": {
        "colab": {
          "base_uri": "https://localhost:8080/",
          "height": 870
        },
        "id": "bmYIiSb7y-Wk",
        "outputId": "3c2a4bcc-9c8a-439d-ab16-d0ffda6c8a2c"
      },
      "execution_count": 107,
      "outputs": [
        {
          "output_type": "execute_result",
          "data": {
            "text/plain": [
              "Text(0.5, 1.0, 'Distribución de puntajes de error (Nested ScoresG, tres iteraciones, y Non-Nested ScoresG)')"
            ]
          },
          "metadata": {},
          "execution_count": 107
        },
        {
          "output_type": "display_data",
          "data": {
            "text/plain": [
              "<Figure size 1300x1000 with 1 Axes>"
            ],
            "image/png": "[encoded data removed]"
          },
          "metadata": {}
        }
      ]
    },
    {
      "cell_type": "code",
      "source": [
        "# Crear un DataFrame con los datos de nested_scoresC\n",
        "scores = pd.DataFrame(outer_scores)\n",
        "\n",
        "# Configurar el tamaño de la figura\n",
        "plt.figure(figsize=(10, 6))\n",
        "\n",
        "# Crear el diagrama de violín con Seaborn\n",
        "sns.violinplot(data=scores)\n",
        "\n",
        "# Configurar etiquetas de los ejes\n",
        "plt.xlabel('Iteración')\n",
        "plt.ylabel('Puntaje de Error Random Search')\n",
        "plt.title('Distribución de Puntajes de Error - Nested Scores Random Search')\n",
        "# Mostrar el gráfico\n",
        "plt.show()"
      ],
      "metadata": {
        "colab": {
          "base_uri": "https://localhost:8080/",
          "height": 565
        },
        "id": "Uvn_IROQzmHt",
        "outputId": "f0b7cf72-49e1-427b-c085-5caa2480d7e6"
      },
      "execution_count": 108,
      "outputs": [
        {
          "output_type": "display_data",
          "data": {
            "text/plain": [
              "<Figure size 1000x600 with 1 Axes>"
            ],
            "image/png": "[encoded data removed]"
          },
          "metadata": {}
        }
      ]
    },
    {
      "cell_type": "markdown",
      "source": [
        "**6. Estimar el error en el conjunto de Test**"
      ],
      "metadata": {
        "id": "Y6B3Jphtq5Xx"
      }
    },
    {
      "cell_type": "markdown",
      "source": [
        "**6.1 Estimar el error usando Grid Search**"
      ],
      "metadata": {
        "id": "VM_d5CyLs7NA"
      }
    },
    {
      "cell_type": "code",
      "source": [
        "print(\"Promedio del error generado en el tiempo  estimado con Non nested y Nested con Grigsearch:\", average_errorGn, average_errorG);\n",
        "print(\"Desviacion estandar en Non nested y Nested con Grigsearch:\", std_scoreGn, std_scoreG)"
      ],
      "metadata": {
        "colab": {
          "base_uri": "https://localhost:8080/"
        },
        "id": "KDKrog8rs_4O",
        "outputId": "3a5d8a99-dd4b-428a-e65c-63c9935d630e"
      },
      "execution_count": 109,
      "outputs": [
        {
          "output_type": "stream",
          "name": "stdout",
          "text": [
            "Promedio del error generado en el tiempo  estimado con Non nested y Nested con Grigsearch: 60.24042891764523 -61.46612523656947\n",
            "Desviacion estandar en Non nested y Nested con Grigsearch: 1.6913531417373275 6.653463201150299\n"
          ]
        }
      ]
    },
    {
      "cell_type": "markdown",
      "source": [
        "**6.1.2 Estimar el error usando Random Search**"
      ],
      "metadata": {
        "id": "84MLguO2uzks"
      }
    },
    {
      "cell_type": "code",
      "source": [
        "print(\"Promedio del error generado en el tiempo estimado en Non nested y Nested con Randomsearch:\", outer_scores, outer_scores);\n",
        "print(\"Desviacion estandar en Non nested y Nested con Randomsearch:\", outer_scores)"
      ],
      "metadata": {
        "id": "r4IfURkqu5ws",
        "colab": {
          "base_uri": "https://localhost:8080/"
        },
        "outputId": "cac518a6-4ea6-45cb-e820-a2a6f62a7012"
      },
      "execution_count": 110,
      "outputs": [
        {
          "output_type": "stream",
          "name": "stdout",
          "text": [
            "Promedio del error generado en el tiempo estimado en Non nested y Nested con Randomsearch: [0.42055110422297126, 0.531981853058079, 0.2830459594732798, 0.47493609247160085, 0.3948547283508401] [0.42055110422297126, 0.531981853058079, 0.2830459594732798, 0.47493609247160085, 0.3948547283508401]\n",
            "Desviacion estandar en Non nested y Nested con Randomsearch: [0.42055110422297126, 0.531981853058079, 0.2830459594732798, 0.47493609247160085, 0.3948547283508401]\n"
          ]
        }
      ]
    },
    {
      "cell_type": "markdown",
      "source": [
        "**7.  Análisis de los resultados: Reportar una tabla con la siguiente información**"
      ],
      "metadata": {
        "id": "4hO0Nqd2vgVj"
      }
    },
    {
      "cell_type": "code",
      "source": [
        "print(\"Test Score (Accuracy) Gridsearch:\", std_scoreG)\n",
        "print(\"Test Score (Accuracy) Randomsearch:\", test_score)\n"
      ],
      "metadata": {
        "id": "ymeB7CJlwkM5",
        "colab": {
          "base_uri": "https://localhost:8080/"
        },
        "outputId": "1f89cad6-965a-411d-fff8-af5d1f76aa87"
      },
      "execution_count": 111,
      "outputs": [
        {
          "output_type": "stream",
          "name": "stdout",
          "text": [
            "Test Score (Accuracy) Gridsearch: 6.653463201150299\n",
            "Test Score (Accuracy) Randomsearch: 0.34700291267088723\n"
          ]
        }
      ]
    },
    {
      "cell_type": "code",
      "source": [
        "              Non-nested CV                                         Nested CV                                              Test score       Ranking basado en grafico\n",
        "\n",
        "Grid Search   (mean/std) 59.13897833882681/ 60.96980001568314      (mean/std)  1.836175908653259  /  7.995056639568742      0.98              2\n",
        "Random Search (mean/std) 0.434563060207793672/0.5297189131274944    (mean/std) 0.43456306020779367 / 0.5297189131274944    0.97              1\n"
      ],
      "metadata": {
        "id": "C4Vz5LRyZDz_"
      },
      "execution_count": null,
      "outputs": []
    }
  ]
}