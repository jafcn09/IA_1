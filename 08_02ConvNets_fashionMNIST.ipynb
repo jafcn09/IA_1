{
  "nbformat": 4,
  "nbformat_minor": 0,
  "metadata": {
    "colab": {
      "provenance": [],
      "include_colab_link": true
    },
    "kernelspec": {
      "name": "python3",
      "display_name": "Python 3"
    },
    "language_info": {
      "name": "python"
    }
  },
  "cells": [
    {
      "cell_type": "markdown",
      "metadata": {
        "id": "view-in-github",
        "colab_type": "text"
      },
      "source": [
        "<a href=\"https://colab.research.google.com/github/jafcn09/IA_1/blob/main/08_02ConvNets_fashionMNIST.ipynb\" target=\"_parent\"><img src=\"https://colab.research.google.com/assets/colab-badge.svg\" alt=\"Open In Colab\"/></a>"
      ]
    },
    {
      "cell_type": "markdown",
      "source": [
        "# ConvNet aplicada a Fashion MNIST"
      ],
      "metadata": {
        "id": "__yoFqkYM2gw"
      }
    },
    {
      "cell_type": "code",
      "execution_count": null,
      "metadata": {
        "id": "YNrPmMPo_18h"
      },
      "outputs": [],
      "source": [
        "import tensorflow as tf\n",
        "from tensorflow import keras\n",
        "import numpy as np\n",
        "import matplotlib.pyplot as plt"
      ]
    },
    {
      "cell_type": "markdown",
      "source": [
        "### dataset"
      ],
      "metadata": {
        "id": "zhEPPemggpuY"
      }
    },
    {
      "cell_type": "code",
      "source": [
        "(X_train_full, y_train_full), (X_test, y_test) = keras.datasets.fashion_mnist.load_data()\n",
        "print('X_train shape', X_train_full.shape, 'X_test shape', X_test.shape)\n",
        "\n",
        "X_train, X_valid = X_train_full[:-5000], X_train_full[-5000:]\n",
        "y_train, y_valid = y_train_full[:-5000], y_train_full[-5000:]\n",
        "\n",
        "X_mean = X_train.mean(axis=0, keepdims=True)\n",
        "X_std = X_train.std(axis=0, keepdims=True) + 1e-7\n",
        "\n",
        "X_train = (X_train - X_mean) / X_std\n",
        "X_valid = (X_valid - X_mean) / X_std\n",
        "X_test = (X_test - X_mean) / X_std\n",
        "\n",
        "X_train = X_train[..., np.newaxis]\n",
        "X_valid = X_valid[..., np.newaxis]\n",
        "X_test = X_test[..., np.newaxis]\n"
      ],
      "metadata": {
        "colab": {
          "base_uri": "https://localhost:8080/"
        },
        "id": "eUjkWwhdJoYZ",
        "outputId": "119aa2c1-290f-44af-d6f2-68039a7452f0"
      },
      "execution_count": null,
      "outputs": [
        {
          "output_type": "stream",
          "name": "stdout",
          "text": [
            "X_train shape (60000, 28, 28) X_test shape (10000, 28, 28)\n"
          ]
        }
      ]
    },
    {
      "cell_type": "markdown",
      "source": [
        "### Convolutional Neural Network"
      ],
      "metadata": {
        "id": "xh6P2YlDiuXU"
      }
    },
    {
      "cell_type": "code",
      "source": [
        "model = keras.models.Sequential([\n",
        "    # nro de parametros = 7*7*64+64 = 3200\n",
        "    keras.layers.Conv2D(64, 7, activation=\"relu\", padding=\"same\", input_shape=[28, 28, 1]),\n",
        "    keras.layers.MaxPooling2D(2),\n",
        "\n",
        "    # nro de parametros = 3*3*64*128+128 = 73856\n",
        "    keras.layers.Conv2D(128, 3, activation=\"relu\", padding=\"same\"),\n",
        "    keras.layers.Conv2D(128, 3, activation=\"relu\", padding=\"same\"),\n",
        "    keras.layers.MaxPooling2D(2),\n",
        "\n",
        "    keras.layers.Conv2D(256, 3, activation=\"relu\", padding=\"same\"),\n",
        "    keras.layers.Conv2D(256, 3, activation=\"relu\", padding=\"same\"),\n",
        "    keras.layers.MaxPooling2D(2),\n",
        "\n",
        "    keras.layers.Flatten(),\n",
        "    keras.layers.Dense(128, activation=\"relu\"),\n",
        "    keras.layers.Dropout(0.5),\n",
        "    keras.layers.Dense(64, activation=\"relu\"),\n",
        "    keras.layers.Dropout(0.5),\n",
        "    keras.layers.Dense(10, activation=\"softmax\")\n",
        "])\n",
        "model.summary()"
      ],
      "metadata": {
        "colab": {
          "base_uri": "https://localhost:8080/"
        },
        "id": "s2-kwohSJ55i",
        "outputId": "e10f0f40-5e83-49ac-cd17-bc94c47a6895"
      },
      "execution_count": null,
      "outputs": [
        {
          "output_type": "stream",
          "name": "stdout",
          "text": [
            "Model: \"sequential_1\"\n",
            "_________________________________________________________________\n",
            " Layer (type)                Output Shape              Param #   \n",
            "=================================================================\n",
            " conv2d_5 (Conv2D)           (None, 28, 28, 64)        3200      \n",
            "                                                                 \n",
            " max_pooling2d_3 (MaxPooling  (None, 14, 14, 64)       0         \n",
            " 2D)                                                             \n",
            "                                                                 \n",
            " conv2d_6 (Conv2D)           (None, 14, 14, 128)       73856     \n",
            "                                                                 \n",
            " conv2d_7 (Conv2D)           (None, 14, 14, 128)       147584    \n",
            "                                                                 \n",
            " max_pooling2d_4 (MaxPooling  (None, 7, 7, 128)        0         \n",
            " 2D)                                                             \n",
            "                                                                 \n",
            " conv2d_8 (Conv2D)           (None, 7, 7, 256)         295168    \n",
            "                                                                 \n",
            " conv2d_9 (Conv2D)           (None, 7, 7, 256)         590080    \n",
            "                                                                 \n",
            " max_pooling2d_5 (MaxPooling  (None, 3, 3, 256)        0         \n",
            " 2D)                                                             \n",
            "                                                                 \n",
            " flatten_1 (Flatten)         (None, 2304)              0         \n",
            "                                                                 \n",
            " dense_3 (Dense)             (None, 128)               295040    \n",
            "                                                                 \n",
            " dropout_2 (Dropout)         (None, 128)               0         \n",
            "                                                                 \n",
            " dense_4 (Dense)             (None, 64)                8256      \n",
            "                                                                 \n",
            " dropout_3 (Dropout)         (None, 64)                0         \n",
            "                                                                 \n",
            " dense_5 (Dense)             (None, 10)                650       \n",
            "                                                                 \n",
            "=================================================================\n",
            "Total params: 1,413,834\n",
            "Trainable params: 1,413,834\n",
            "Non-trainable params: 0\n",
            "_________________________________________________________________\n"
          ]
        }
      ]
    },
    {
      "cell_type": "code",
      "source": [
        "model.compile(loss=\"sparse_categorical_crossentropy\", optimizer=\"nadam\", metrics=[\"accuracy\"])\n",
        "history = model.fit(X_train, y_train, epochs=10, validation_data=(X_valid, y_valid))"
      ],
      "metadata": {
        "colab": {
          "base_uri": "https://localhost:8080/"
        },
        "id": "gKsGFXdLMdW6",
        "outputId": "4512b99d-4772-402b-e075-572dae2ef58d"
      },
      "execution_count": null,
      "outputs": [
        {
          "output_type": "stream",
          "name": "stdout",
          "text": [
            "Epoch 1/10\n",
            "1719/1719 [==============================] - 720s 418ms/step - loss: 0.6987 - accuracy: 0.7581 - val_loss: 0.3798 - val_accuracy: 0.8690\n",
            "Epoch 2/10\n",
            "1719/1719 [==============================] - 720s 419ms/step - loss: 0.4189 - accuracy: 0.8609 - val_loss: 0.3479 - val_accuracy: 0.8746\n",
            "Epoch 3/10\n",
            "1719/1719 [==============================] - 682s 396ms/step - loss: 0.3589 - accuracy: 0.8796 - val_loss: 0.3050 - val_accuracy: 0.8966\n",
            "Epoch 4/10\n",
            "1719/1719 [==============================] - 695s 405ms/step - loss: 0.3280 - accuracy: 0.8896 - val_loss: 0.2715 - val_accuracy: 0.9008\n",
            "Epoch 5/10\n",
            "1719/1719 [==============================] - 724s 421ms/step - loss: 0.3162 - accuracy: 0.8929 - val_loss: 0.3033 - val_accuracy: 0.8890\n",
            "Epoch 6/10\n",
            "1719/1719 [==============================] - 707s 412ms/step - loss: 0.2913 - accuracy: 0.9017 - val_loss: 0.2895 - val_accuracy: 0.8940\n",
            "Epoch 7/10\n",
            "1719/1719 [==============================] - 690s 401ms/step - loss: 0.2799 - accuracy: 0.9061 - val_loss: 0.2974 - val_accuracy: 0.9044\n",
            "Epoch 8/10\n",
            "1719/1719 [==============================] - 689s 401ms/step - loss: 0.2633 - accuracy: 0.9102 - val_loss: 0.2893 - val_accuracy: 0.8984\n",
            "Epoch 9/10\n",
            "1719/1719 [==============================] - 697s 405ms/step - loss: 0.2551 - accuracy: 0.9139 - val_loss: 0.2950 - val_accuracy: 0.8994\n",
            "Epoch 10/10\n",
            "1719/1719 [==============================] - 728s 423ms/step - loss: 0.2445 - accuracy: 0.9167 - val_loss: 0.2932 - val_accuracy: 0.9054\n"
          ]
        }
      ]
    },
    {
      "cell_type": "code",
      "source": [
        "model.evaluate(X_test, y_test)"
      ],
      "metadata": {
        "colab": {
          "base_uri": "https://localhost:8080/"
        },
        "id": "5CjE_8lYB3HS",
        "outputId": "9a021697-1a46-42b9-e794-2c1ff0590653"
      },
      "execution_count": null,
      "outputs": [
        {
          "output_type": "stream",
          "name": "stdout",
          "text": [
            "313/313 [==============================] - 30s 97ms/step - loss: 0.2939 - accuracy: 0.8998\n"
          ]
        },
        {
          "output_type": "execute_result",
          "data": {
            "text/plain": [
              "[0.2938835620880127, 0.8998000025749207]"
            ]
          },
          "metadata": {},
          "execution_count": 6
        }
      ]
    },
    {
      "cell_type": "code",
      "source": [
        "X_new = X_test[:10]\n",
        "model.predict(X_new)"
      ],
      "metadata": {
        "colab": {
          "base_uri": "https://localhost:8080/"
        },
        "id": "LHeE5rrYMieQ",
        "outputId": "15d65c3b-d7a9-48f0-d8dc-daf5ccdaf0b2"
      },
      "execution_count": null,
      "outputs": [
        {
          "output_type": "execute_result",
          "data": {
            "text/plain": [
              "array([[7.08132821e-36, 0.00000000e+00, 0.00000000e+00, 0.00000000e+00,\n",
              "        0.00000000e+00, 3.59133243e-18, 0.00000000e+00, 1.49585480e-06,\n",
              "        1.44334920e-27, 9.99998450e-01],\n",
              "       [1.10867235e-08, 1.12712488e-18, 9.99886274e-01, 2.77483962e-14,\n",
              "        1.00911404e-06, 2.26546495e-23, 1.12581482e-04, 1.80269446e-25,\n",
              "        1.37829888e-17, 1.59570579e-23],\n",
              "       [0.00000000e+00, 1.00000000e+00, 0.00000000e+00, 1.50620001e-26,\n",
              "        4.63094480e-37, 0.00000000e+00, 0.00000000e+00, 0.00000000e+00,\n",
              "        0.00000000e+00, 0.00000000e+00],\n",
              "       [0.00000000e+00, 1.00000000e+00, 0.00000000e+00, 4.63033837e-32,\n",
              "        0.00000000e+00, 0.00000000e+00, 0.00000000e+00, 0.00000000e+00,\n",
              "        0.00000000e+00, 0.00000000e+00],\n",
              "       [2.14283027e-05, 6.24177520e-17, 1.48604997e-07, 2.31986679e-08,\n",
              "        3.07060145e-05, 8.89563699e-27, 9.99947786e-01, 1.84195792e-31,\n",
              "        5.21427147e-14, 1.34673008e-33],\n",
              "       [1.25279736e-32, 1.00000000e+00, 9.79278365e-32, 3.97457538e-21,\n",
              "        5.88049667e-29, 0.00000000e+00, 1.61431222e-29, 0.00000000e+00,\n",
              "        0.00000000e+00, 0.00000000e+00],\n",
              "       [2.63989497e-09, 1.78772578e-12, 9.12823132e-04, 4.71734012e-08,\n",
              "        9.97872353e-01, 1.23849276e-25, 1.21482741e-03, 4.92954188e-26,\n",
              "        9.00480930e-14, 8.84074067e-28],\n",
              "       [1.43719462e-05, 1.98479318e-14, 1.47370110e-06, 8.48826645e-08,\n",
              "        7.56426598e-04, 1.73649711e-23, 9.99227643e-01, 2.81267836e-27,\n",
              "        1.60937930e-12, 1.09564758e-28],\n",
              "       [5.64730394e-30, 1.22294153e-31, 2.57749682e-31, 1.95497342e-36,\n",
              "        8.96065017e-33, 1.00000000e+00, 1.10643829e-31, 5.80989521e-13,\n",
              "        7.67800607e-24, 1.34513893e-15],\n",
              "       [1.20210677e-35, 0.00000000e+00, 0.00000000e+00, 0.00000000e+00,\n",
              "        0.00000000e+00, 4.78510530e-11, 0.00000000e+00, 1.00000000e+00,\n",
              "        1.67510826e-28, 9.01843544e-10]], dtype=float32)"
            ]
          },
          "metadata": {},
          "execution_count": 7
        }
      ]
    }
  ]
}