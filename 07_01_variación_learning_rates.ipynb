{
  "nbformat": 4,
  "nbformat_minor": 0,
  "metadata": {
    "colab": {
      "provenance": [],
      "include_colab_link": true
    },
    "kernelspec": {
      "name": "python3",
      "display_name": "Python 3"
    },
    "language_info": {
      "name": "python"
    }
  },
  "cells": [
    {
      "cell_type": "markdown",
      "metadata": {
        "id": "view-in-github",
        "colab_type": "text"
      },
      "source": [
        "<a href=\"https://colab.research.google.com/github/jafcn09/IA_1/blob/main/07_01_variacio%CC%81n_learning_rates.ipynb\" target=\"_parent\"><img src=\"https://colab.research.google.com/assets/colab-badge.svg\" alt=\"Open In Colab\"/></a>"
      ]
    },
    {
      "cell_type": "markdown",
      "source": [
        "Ver mas ejemplos en\n",
        "`https://www.tensorflow.org/api_docs/python/tf/keras/optimizers/schedules/PiecewiseConstantDecay`\n"
      ],
      "metadata": {
        "id": "yVt6binUYm23"
      }
    },
    {
      "cell_type": "code",
      "execution_count": null,
      "metadata": {
        "id": "8ONVra40VZc2"
      },
      "outputs": [],
      "source": [
        "import tensorflow as tf\n",
        "from tensorflow import keras\n",
        "import numpy as np\n",
        "import matplotlib.pyplot as plt\n",
        "\n",
        "\n",
        "tf.random.set_seed(42)\n",
        "np.random.seed(42)"
      ]
    },
    {
      "cell_type": "code",
      "source": [
        "(X_train_full, y_train_full), (X_test, y_test) = keras.datasets.fashion_mnist.load_data()\n",
        "X_train_full = X_train_full / 255.0\n",
        "X_test = X_test / 255.0\n",
        "X_valid, X_train = X_train_full[:5000], X_train_full[5000:]\n",
        "y_valid, y_train = y_train_full[:5000], y_train_full[5000:]"
      ],
      "metadata": {
        "id": "pE4mrDeSV0I0",
        "colab": {
          "base_uri": "https://localhost:8080/"
        },
        "outputId": "eb23b34d-f1d2-4f59-e0ed-48f80f45dc75"
      },
      "execution_count": null,
      "outputs": [
        {
          "output_type": "stream",
          "name": "stdout",
          "text": [
            "Downloading data from https://storage.googleapis.com/tensorflow/tf-keras-datasets/train-labels-idx1-ubyte.gz\n",
            "29515/29515 [==============================] - 0s 0us/step\n",
            "Downloading data from https://storage.googleapis.com/tensorflow/tf-keras-datasets/train-images-idx3-ubyte.gz\n",
            "26421880/26421880 [==============================] - 0s 0us/step\n",
            "Downloading data from https://storage.googleapis.com/tensorflow/tf-keras-datasets/t10k-labels-idx1-ubyte.gz\n",
            "5148/5148 [==============================] - 0s 0us/step\n",
            "Downloading data from https://storage.googleapis.com/tensorflow/tf-keras-datasets/t10k-images-idx3-ubyte.gz\n",
            "4422102/4422102 [==============================] - 0s 0us/step\n"
          ]
        }
      ]
    },
    {
      "cell_type": "code",
      "source": [
        "pixel_means = X_train.mean(axis=0, keepdims=True)\n",
        "pixel_stds = X_train.std(axis=0, keepdims=True)\n",
        "X_train_scaled = (X_train - pixel_means) / pixel_stds\n",
        "X_valid_scaled = (X_valid - pixel_means) / pixel_stds\n",
        "X_test_scaled = (X_test - pixel_means) / pixel_stds"
      ],
      "metadata": {
        "id": "ah81x-_dV8Ix"
      },
      "execution_count": null,
      "outputs": []
    },
    {
      "cell_type": "markdown",
      "source": [
        "## no learning rate scheduling"
      ],
      "metadata": {
        "id": "hcpvHo0TYY4z"
      }
    },
    {
      "cell_type": "code",
      "source": [
        "n_epochs = 25"
      ],
      "metadata": {
        "id": "CEtTJQ9lkfsL"
      },
      "execution_count": null,
      "outputs": []
    },
    {
      "cell_type": "code",
      "source": [
        "optimizer = keras.optimizers.SGD(learning_rate=0.01)"
      ],
      "metadata": {
        "id": "ny5hXD4fYezs"
      },
      "execution_count": null,
      "outputs": []
    },
    {
      "cell_type": "code",
      "source": [
        "model = keras.models.Sequential([\n",
        "    keras.layers.Flatten(input_shape=[28, 28]),\n",
        "    keras.layers.Dense(300, activation=\"selu\", kernel_initializer=\"lecun_normal\"),\n",
        "    keras.layers.Dense(100, activation=\"selu\", kernel_initializer=\"lecun_normal\"),\n",
        "    keras.layers.Dense(10, activation=\"softmax\")\n",
        "])\n",
        "model.compile(loss=\"sparse_categorical_crossentropy\", optimizer = optimizer, metrics=[\"accuracy\"])"
      ],
      "metadata": {
        "id": "MMiCnHlUYbe6"
      },
      "execution_count": null,
      "outputs": []
    },
    {
      "cell_type": "code",
      "source": [
        "history = model.fit(X_train_scaled, y_train, epochs=n_epochs,\n",
        "                    validation_data=(X_valid_scaled, y_valid))"
      ],
      "metadata": {
        "colab": {
          "base_uri": "https://localhost:8080/"
        },
        "id": "0oLJTN50Yh7t",
        "outputId": "822e5140-ed8a-4fb5-f557-cedb93958f91"
      },
      "execution_count": null,
      "outputs": [
        {
          "output_type": "stream",
          "name": "stdout",
          "text": [
            "Epoch 1/25\n",
            "1719/1719 [==============================] - 10s 5ms/step - loss: 0.4889 - accuracy: 0.8286 - val_loss: 0.3957 - val_accuracy: 0.8634\n",
            "Epoch 2/25\n",
            "1719/1719 [==============================] - 9s 5ms/step - loss: 0.3772 - accuracy: 0.8658 - val_loss: 0.3626 - val_accuracy: 0.8702\n",
            "Epoch 3/25\n",
            "1719/1719 [==============================] - 7s 4ms/step - loss: 0.3416 - accuracy: 0.8772 - val_loss: 0.3733 - val_accuracy: 0.8652\n",
            "Epoch 4/25\n",
            "1719/1719 [==============================] - 10s 6ms/step - loss: 0.3188 - accuracy: 0.8857 - val_loss: 0.3401 - val_accuracy: 0.8784\n",
            "Epoch 5/25\n",
            "1719/1719 [==============================] - 10s 6ms/step - loss: 0.3009 - accuracy: 0.8923 - val_loss: 0.3346 - val_accuracy: 0.8784\n",
            "Epoch 6/25\n",
            "1719/1719 [==============================] - 11s 6ms/step - loss: 0.2842 - accuracy: 0.8976 - val_loss: 0.3332 - val_accuracy: 0.8822\n",
            "Epoch 7/25\n",
            "1719/1719 [==============================] - 8s 5ms/step - loss: 0.2722 - accuracy: 0.9013 - val_loss: 0.3328 - val_accuracy: 0.8820\n",
            "Epoch 8/25\n",
            "1719/1719 [==============================] - 9s 5ms/step - loss: 0.2599 - accuracy: 0.9071 - val_loss: 0.3489 - val_accuracy: 0.8758\n",
            "Epoch 9/25\n",
            " 118/1719 [=>............................] - ETA: 6s - loss: 0.2446 - accuracy: 0.9123"
          ]
        }
      ]
    },
    {
      "cell_type": "markdown",
      "source": [
        "# power scheduling"
      ],
      "metadata": {
        "id": "M5YJcNnzrEaQ"
      }
    },
    {
      "cell_type": "code",
      "source": [
        "optimizer = keras.optimizers.SGD(learning_rate=0.01,decay=1e-4)"
      ],
      "metadata": {
        "id": "4QXnVl4DrQBp"
      },
      "execution_count": null,
      "outputs": []
    },
    {
      "cell_type": "code",
      "source": [
        "model = keras.models.Sequential([\n",
        "    keras.layers.Flatten(input_shape=[28, 28]),\n",
        "    keras.layers.Dense(300, activation=\"selu\", kernel_initializer=\"lecun_normal\"),\n",
        "    keras.layers.Dense(100, activation=\"selu\", kernel_initializer=\"lecun_normal\"),\n",
        "    keras.layers.Dense(10, activation=\"softmax\")\n",
        "])\n",
        "model.compile(loss=\"sparse_categorical_crossentropy\", optimizer=optimizer, metrics=[\"accuracy\"])"
      ],
      "metadata": {
        "id": "gA6gNiN3rQBq"
      },
      "execution_count": null,
      "outputs": []
    },
    {
      "cell_type": "code",
      "source": [
        "history = model.fit(X_train_scaled, y_train, epochs=n_epochs,\n",
        "                    validation_data=(X_valid_scaled, y_valid))"
      ],
      "metadata": {
        "colab": {
          "base_uri": "https://localhost:8080/"
        },
        "outputId": "e765af56-fe3c-41bf-be33-dbada8f4a472",
        "id": "v6bfgX87rQBq"
      },
      "execution_count": null,
      "outputs": [
        {
          "output_type": "stream",
          "name": "stdout",
          "text": [
            "Epoch 1/25\n",
            "1719/1719 [==============================] - 6s 3ms/step - loss: 0.4896 - accuracy: 0.8277 - val_loss: 0.4095 - val_accuracy: 0.8596\n",
            "Epoch 2/25\n",
            "1719/1719 [==============================] - 6s 3ms/step - loss: 0.3825 - accuracy: 0.8646 - val_loss: 0.3751 - val_accuracy: 0.8698\n",
            "Epoch 3/25\n",
            "1719/1719 [==============================] - 6s 3ms/step - loss: 0.3499 - accuracy: 0.8760 - val_loss: 0.3744 - val_accuracy: 0.8678\n",
            "Epoch 4/25\n",
            "1719/1719 [==============================] - 6s 4ms/step - loss: 0.3284 - accuracy: 0.8829 - val_loss: 0.3514 - val_accuracy: 0.8794\n",
            "Epoch 5/25\n",
            "1719/1719 [==============================] - 6s 3ms/step - loss: 0.3131 - accuracy: 0.8891 - val_loss: 0.3453 - val_accuracy: 0.8784\n",
            "Epoch 6/25\n",
            "1719/1719 [==============================] - 6s 3ms/step - loss: 0.2991 - accuracy: 0.8944 - val_loss: 0.3434 - val_accuracy: 0.8810\n",
            "Epoch 7/25\n",
            "1719/1719 [==============================] - 6s 3ms/step - loss: 0.2890 - accuracy: 0.8971 - val_loss: 0.3372 - val_accuracy: 0.8806\n",
            "Epoch 8/25\n",
            "1719/1719 [==============================] - 6s 3ms/step - loss: 0.2796 - accuracy: 0.9006 - val_loss: 0.3391 - val_accuracy: 0.8804\n",
            "Epoch 9/25\n",
            "1719/1719 [==============================] - 5s 3ms/step - loss: 0.2714 - accuracy: 0.9039 - val_loss: 0.3280 - val_accuracy: 0.8842\n",
            "Epoch 10/25\n",
            "1719/1719 [==============================] - 6s 3ms/step - loss: 0.2642 - accuracy: 0.9055 - val_loss: 0.3251 - val_accuracy: 0.8852\n",
            "Epoch 11/25\n",
            "1719/1719 [==============================] - 5s 3ms/step - loss: 0.2582 - accuracy: 0.9073 - val_loss: 0.3264 - val_accuracy: 0.8858\n",
            "Epoch 12/25\n",
            "1719/1719 [==============================] - 5s 3ms/step - loss: 0.2521 - accuracy: 0.9112 - val_loss: 0.3332 - val_accuracy: 0.8806\n",
            "Epoch 13/25\n",
            "1719/1719 [==============================] - 5s 3ms/step - loss: 0.2467 - accuracy: 0.9130 - val_loss: 0.3239 - val_accuracy: 0.8874\n",
            "Epoch 14/25\n",
            "1719/1719 [==============================] - 5s 3ms/step - loss: 0.2427 - accuracy: 0.9137 - val_loss: 0.3244 - val_accuracy: 0.8874\n",
            "Epoch 15/25\n",
            "1719/1719 [==============================] - 5s 3ms/step - loss: 0.2377 - accuracy: 0.9162 - val_loss: 0.3216 - val_accuracy: 0.8878\n",
            "Epoch 16/25\n",
            "1719/1719 [==============================] - 5s 3ms/step - loss: 0.2337 - accuracy: 0.9173 - val_loss: 0.3179 - val_accuracy: 0.8870\n",
            "Epoch 17/25\n",
            "1719/1719 [==============================] - 6s 3ms/step - loss: 0.2300 - accuracy: 0.9189 - val_loss: 0.3213 - val_accuracy: 0.8874\n",
            "Epoch 18/25\n",
            "1719/1719 [==============================] - 6s 3ms/step - loss: 0.2262 - accuracy: 0.9205 - val_loss: 0.3166 - val_accuracy: 0.8898\n",
            "Epoch 19/25\n",
            "1719/1719 [==============================] - 5s 3ms/step - loss: 0.2230 - accuracy: 0.9213 - val_loss: 0.3219 - val_accuracy: 0.8878\n",
            "Epoch 20/25\n",
            "1719/1719 [==============================] - 6s 3ms/step - loss: 0.2198 - accuracy: 0.9233 - val_loss: 0.3176 - val_accuracy: 0.8894\n",
            "Epoch 21/25\n",
            "1719/1719 [==============================] - 5s 3ms/step - loss: 0.2163 - accuracy: 0.9245 - val_loss: 0.3187 - val_accuracy: 0.8886\n",
            "Epoch 22/25\n",
            "1719/1719 [==============================] - 5s 3ms/step - loss: 0.2139 - accuracy: 0.9246 - val_loss: 0.3149 - val_accuracy: 0.8912\n",
            "Epoch 23/25\n",
            "1719/1719 [==============================] - 6s 3ms/step - loss: 0.2111 - accuracy: 0.9260 - val_loss: 0.3176 - val_accuracy: 0.8898\n",
            "Epoch 24/25\n",
            "1719/1719 [==============================] - 5s 3ms/step - loss: 0.2082 - accuracy: 0.9272 - val_loss: 0.3171 - val_accuracy: 0.8890\n",
            "Epoch 25/25\n",
            "1719/1719 [==============================] - 5s 3ms/step - loss: 0.2061 - accuracy: 0.9277 - val_loss: 0.3168 - val_accuracy: 0.8888\n"
          ]
        }
      ]
    },
    {
      "cell_type": "markdown",
      "source": [
        "# inverse time decay"
      ],
      "metadata": {
        "id": "JzXphMUtWFu1"
      }
    },
    {
      "cell_type": "code",
      "source": [
        "initial_learning_rate = 0.1\n",
        "decay_steps = 1.0   # 20 * len(X_train) // 32\n",
        "decay_rate = 0.5\n",
        "learning_rate_fn = keras.optimizers.schedules.InverseTimeDecay(initial_learning_rate, decay_steps, decay_rate)"
      ],
      "metadata": {
        "id": "h7l9qKwDpumu"
      },
      "execution_count": null,
      "outputs": []
    },
    {
      "cell_type": "code",
      "source": [
        "model = keras.models.Sequential([\n",
        "    keras.layers.Flatten(input_shape=[28, 28]),\n",
        "    keras.layers.Dense(300, activation=\"selu\", kernel_initializer=\"lecun_normal\"),\n",
        "    keras.layers.Dense(100, activation=\"selu\", kernel_initializer=\"lecun_normal\"),\n",
        "    keras.layers.Dense(10, activation=\"softmax\")\n",
        "])"
      ],
      "metadata": {
        "id": "k8bNwBY4pwX-"
      },
      "execution_count": null,
      "outputs": []
    },
    {
      "cell_type": "code",
      "source": [
        "model.compile(optimizer=tf.keras.optimizers.SGD(learning_rate=learning_rate_fn),\n",
        "              loss='sparse_categorical_crossentropy',\n",
        "              metrics=['accuracy'])"
      ],
      "metadata": {
        "id": "Fb5m_Ndt2UNp"
      },
      "execution_count": null,
      "outputs": []
    },
    {
      "cell_type": "code",
      "source": [
        "history = model.fit(X_train_scaled, y_train, epochs=n_epochs,\n",
        "                    validation_data=(X_valid_scaled, y_valid))"
      ],
      "metadata": {
        "colab": {
          "base_uri": "https://localhost:8080/"
        },
        "id": "2GUwebhxWqZr",
        "outputId": "abbf9cc5-63a7-49f6-c8c4-f4808922c6c5"
      },
      "execution_count": null,
      "outputs": [
        {
          "output_type": "stream",
          "name": "stdout",
          "text": [
            "Epoch 1/25\n",
            "1719/1719 [==============================] - 6s 3ms/step - loss: 0.6266 - accuracy: 0.7853 - val_loss: 0.5846 - val_accuracy: 0.8000\n",
            "Epoch 2/25\n",
            "1719/1719 [==============================] - 5s 3ms/step - loss: 0.5807 - accuracy: 0.7979 - val_loss: 0.5712 - val_accuracy: 0.8058\n",
            "Epoch 3/25\n",
            "1719/1719 [==============================] - 5s 3ms/step - loss: 0.5714 - accuracy: 0.8006 - val_loss: 0.5645 - val_accuracy: 0.8078\n",
            "Epoch 4/25\n",
            "1719/1719 [==============================] - 6s 3ms/step - loss: 0.5660 - accuracy: 0.8021 - val_loss: 0.5600 - val_accuracy: 0.8088\n",
            "Epoch 5/25\n",
            "1719/1719 [==============================] - 5s 3ms/step - loss: 0.5622 - accuracy: 0.8038 - val_loss: 0.5567 - val_accuracy: 0.8100\n",
            "Epoch 6/25\n",
            "1719/1719 [==============================] - 6s 3ms/step - loss: 0.5593 - accuracy: 0.8051 - val_loss: 0.5541 - val_accuracy: 0.8104\n",
            "Epoch 7/25\n",
            "1719/1719 [==============================] - 6s 3ms/step - loss: 0.5570 - accuracy: 0.8058 - val_loss: 0.5520 - val_accuracy: 0.8112\n",
            "Epoch 8/25\n",
            "1719/1719 [==============================] - 6s 3ms/step - loss: 0.5551 - accuracy: 0.8065 - val_loss: 0.5502 - val_accuracy: 0.8110\n",
            "Epoch 9/25\n",
            "1719/1719 [==============================] - 5s 3ms/step - loss: 0.5534 - accuracy: 0.8068 - val_loss: 0.5487 - val_accuracy: 0.8120\n",
            "Epoch 10/25\n",
            "1719/1719 [==============================] - 6s 3ms/step - loss: 0.5520 - accuracy: 0.8075 - val_loss: 0.5473 - val_accuracy: 0.8124\n",
            "Epoch 11/25\n",
            "1719/1719 [==============================] - 6s 3ms/step - loss: 0.5507 - accuracy: 0.8079 - val_loss: 0.5461 - val_accuracy: 0.8128\n",
            "Epoch 12/25\n",
            "1719/1719 [==============================] - 6s 3ms/step - loss: 0.5496 - accuracy: 0.8082 - val_loss: 0.5450 - val_accuracy: 0.8142\n",
            "Epoch 13/25\n",
            "1719/1719 [==============================] - 6s 3ms/step - loss: 0.5486 - accuracy: 0.8086 - val_loss: 0.5440 - val_accuracy: 0.8148\n",
            "Epoch 14/25\n",
            "1719/1719 [==============================] - 6s 3ms/step - loss: 0.5476 - accuracy: 0.8088 - val_loss: 0.5431 - val_accuracy: 0.8146\n",
            "Epoch 15/25\n",
            "1719/1719 [==============================] - 6s 3ms/step - loss: 0.5468 - accuracy: 0.8093 - val_loss: 0.5423 - val_accuracy: 0.8146\n",
            "Epoch 16/25\n",
            "1719/1719 [==============================] - 6s 3ms/step - loss: 0.5460 - accuracy: 0.8095 - val_loss: 0.5415 - val_accuracy: 0.8150\n",
            "Epoch 17/25\n",
            "1719/1719 [==============================] - 6s 3ms/step - loss: 0.5452 - accuracy: 0.8099 - val_loss: 0.5408 - val_accuracy: 0.8152\n",
            "Epoch 18/25\n",
            "1719/1719 [==============================] - 6s 3ms/step - loss: 0.5446 - accuracy: 0.8099 - val_loss: 0.5401 - val_accuracy: 0.8156\n",
            "Epoch 19/25\n",
            "1719/1719 [==============================] - 6s 3ms/step - loss: 0.5439 - accuracy: 0.8103 - val_loss: 0.5395 - val_accuracy: 0.8158\n",
            "Epoch 20/25\n",
            "1719/1719 [==============================] - 6s 3ms/step - loss: 0.5433 - accuracy: 0.8106 - val_loss: 0.5389 - val_accuracy: 0.8160\n",
            "Epoch 21/25\n",
            "1719/1719 [==============================] - 6s 3ms/step - loss: 0.5428 - accuracy: 0.8109 - val_loss: 0.5384 - val_accuracy: 0.8160\n",
            "Epoch 22/25\n",
            "1719/1719 [==============================] - 6s 3ms/step - loss: 0.5422 - accuracy: 0.8112 - val_loss: 0.5379 - val_accuracy: 0.8160\n",
            "Epoch 23/25\n",
            "1719/1719 [==============================] - 6s 3ms/step - loss: 0.5417 - accuracy: 0.8113 - val_loss: 0.5374 - val_accuracy: 0.8168\n",
            "Epoch 24/25\n",
            "1719/1719 [==============================] - 5s 3ms/step - loss: 0.5412 - accuracy: 0.8115 - val_loss: 0.5369 - val_accuracy: 0.8168\n",
            "Epoch 25/25\n",
            "1719/1719 [==============================] - 5s 3ms/step - loss: 0.5408 - accuracy: 0.8117 - val_loss: 0.5364 - val_accuracy: 0.8170\n"
          ]
        }
      ]
    },
    {
      "cell_type": "markdown",
      "source": [
        "### alternativamente usando callbacks"
      ],
      "metadata": {
        "id": "76L7nWCvqNjZ"
      }
    },
    {
      "cell_type": "code",
      "source": [
        "def inverse_time_decay(initial_learning_rate, decay_steps, decay_rate):\n",
        "  def Inverse_time_decay_scheduler(epoch):\n",
        "    return float(tf.keras.backend.get_value(keras.optimizers.schedules.InverseTimeDecay(initial_learning_rate, decay_steps, decay_rate)(epoch)))\n",
        "  return Inverse_time_decay_scheduler\n",
        "\n",
        "initial_learning_rate = 0.1\n",
        "decay_steps = 1.0 # 20 * len(X_train) // 32\n",
        "decay_rate = 0.5\n",
        "\n",
        "InverseTimeDecay_fn = inverse_time_decay(initial_learning_rate, decay_steps, decay_rate)\n"
      ],
      "metadata": {
        "id": "sk63m0QBuTRz"
      },
      "execution_count": null,
      "outputs": []
    },
    {
      "cell_type": "code",
      "source": [
        "model = keras.models.Sequential([\n",
        "    keras.layers.Flatten(input_shape=[28, 28]),\n",
        "    keras.layers.Dense(300, activation=\"selu\", kernel_initializer=\"lecun_normal\"),\n",
        "    keras.layers.Dense(100, activation=\"selu\", kernel_initializer=\"lecun_normal\"),\n",
        "    keras.layers.Dense(10, activation=\"softmax\")\n",
        "])"
      ],
      "metadata": {
        "id": "RownneE94rns"
      },
      "execution_count": null,
      "outputs": []
    },
    {
      "cell_type": "code",
      "source": [
        "model.compile(optimizer='sgd',\n",
        "              loss='sparse_categorical_crossentropy',\n",
        "              metrics=['accuracy'])"
      ],
      "metadata": {
        "id": "oBaDb5zO4yfx"
      },
      "execution_count": null,
      "outputs": []
    },
    {
      "cell_type": "code",
      "source": [
        "lr_scheduler = keras.callbacks.LearningRateScheduler(InverseTimeDecay_fn)\n",
        "\n",
        "history = model.fit(X_train_scaled, y_train, epochs=n_epochs,\n",
        "                    validation_data=(X_valid_scaled, y_valid),\n",
        "                    callbacks=[lr_scheduler])"
      ],
      "metadata": {
        "colab": {
          "base_uri": "https://localhost:8080/"
        },
        "id": "p3wwZ_eU0IxU",
        "outputId": "f8752120-95ff-4143-9e1f-f16d8bff9ca7"
      },
      "execution_count": null,
      "outputs": [
        {
          "output_type": "stream",
          "name": "stdout",
          "text": [
            "Epoch 1/25\n",
            "1719/1719 [==============================] - 6s 3ms/step - loss: 0.4995 - accuracy: 0.8252 - val_loss: 0.4260 - val_accuracy: 0.8526 - lr: 0.1000\n",
            "Epoch 2/25\n",
            "1719/1719 [==============================] - 5s 3ms/step - loss: 0.3369 - accuracy: 0.8751 - val_loss: 0.3447 - val_accuracy: 0.8760 - lr: 0.0667\n",
            "Epoch 3/25\n",
            "1719/1719 [==============================] - 5s 3ms/step - loss: 0.2855 - accuracy: 0.8939 - val_loss: 0.3551 - val_accuracy: 0.8720 - lr: 0.0500\n",
            "Epoch 4/25\n",
            "1719/1719 [==============================] - 6s 3ms/step - loss: 0.2544 - accuracy: 0.9058 - val_loss: 0.3132 - val_accuracy: 0.8870 - lr: 0.0400\n",
            "Epoch 5/25\n",
            "1719/1719 [==============================] - 5s 3ms/step - loss: 0.2311 - accuracy: 0.9140 - val_loss: 0.2921 - val_accuracy: 0.8954 - lr: 0.0333\n",
            "Epoch 6/25\n",
            "1719/1719 [==============================] - 5s 3ms/step - loss: 0.2110 - accuracy: 0.9221 - val_loss: 0.3081 - val_accuracy: 0.8940 - lr: 0.0286\n",
            "Epoch 7/25\n",
            "1719/1719 [==============================] - 5s 3ms/step - loss: 0.1956 - accuracy: 0.9283 - val_loss: 0.3113 - val_accuracy: 0.8900 - lr: 0.0250\n",
            "Epoch 8/25\n",
            "1719/1719 [==============================] - 5s 3ms/step - loss: 0.1824 - accuracy: 0.9326 - val_loss: 0.3072 - val_accuracy: 0.8878 - lr: 0.0222\n",
            "Epoch 9/25\n",
            "1719/1719 [==============================] - 6s 3ms/step - loss: 0.1699 - accuracy: 0.9376 - val_loss: 0.2960 - val_accuracy: 0.8952 - lr: 0.0200\n",
            "Epoch 10/25\n",
            "1719/1719 [==============================] - 6s 3ms/step - loss: 0.1596 - accuracy: 0.9413 - val_loss: 0.3018 - val_accuracy: 0.8982 - lr: 0.0182\n",
            "Epoch 11/25\n",
            "1719/1719 [==============================] - 5s 3ms/step - loss: 0.1511 - accuracy: 0.9450 - val_loss: 0.3055 - val_accuracy: 0.8956 - lr: 0.0167\n",
            "Epoch 12/25\n",
            "1719/1719 [==============================] - 5s 3ms/step - loss: 0.1422 - accuracy: 0.9495 - val_loss: 0.3229 - val_accuracy: 0.8914 - lr: 0.0154\n",
            "Epoch 13/25\n",
            "1719/1719 [==============================] - 6s 3ms/step - loss: 0.1343 - accuracy: 0.9526 - val_loss: 0.3111 - val_accuracy: 0.8978 - lr: 0.0143\n",
            "Epoch 14/25\n",
            "1719/1719 [==============================] - 6s 3ms/step - loss: 0.1284 - accuracy: 0.9553 - val_loss: 0.3132 - val_accuracy: 0.8956 - lr: 0.0133\n",
            "Epoch 15/25\n",
            "1719/1719 [==============================] - 6s 3ms/step - loss: 0.1212 - accuracy: 0.9580 - val_loss: 0.3124 - val_accuracy: 0.8960 - lr: 0.0125\n",
            "Epoch 16/25\n",
            "1719/1719 [==============================] - 5s 3ms/step - loss: 0.1159 - accuracy: 0.9595 - val_loss: 0.3170 - val_accuracy: 0.8968 - lr: 0.0118\n",
            "Epoch 17/25\n",
            "1719/1719 [==============================] - 6s 3ms/step - loss: 0.1100 - accuracy: 0.9622 - val_loss: 0.3246 - val_accuracy: 0.8980 - lr: 0.0111\n",
            "Epoch 18/25\n",
            "1719/1719 [==============================] - 6s 3ms/step - loss: 0.1045 - accuracy: 0.9649 - val_loss: 0.3313 - val_accuracy: 0.8956 - lr: 0.0105\n",
            "Epoch 19/25\n",
            "1719/1719 [==============================] - 5s 3ms/step - loss: 0.1002 - accuracy: 0.9663 - val_loss: 0.3281 - val_accuracy: 0.9020 - lr: 0.0100\n",
            "Epoch 20/25\n",
            "1719/1719 [==============================] - 6s 3ms/step - loss: 0.0959 - accuracy: 0.9679 - val_loss: 0.3328 - val_accuracy: 0.8926 - lr: 0.0095\n",
            "Epoch 21/25\n",
            "1719/1719 [==============================] - 6s 3ms/step - loss: 0.0916 - accuracy: 0.9703 - val_loss: 0.3383 - val_accuracy: 0.8940 - lr: 0.0091\n",
            "Epoch 22/25\n",
            "1719/1719 [==============================] - 6s 3ms/step - loss: 0.0874 - accuracy: 0.9717 - val_loss: 0.3391 - val_accuracy: 0.8988 - lr: 0.0087\n",
            "Epoch 23/25\n",
            "1719/1719 [==============================] - 6s 3ms/step - loss: 0.0842 - accuracy: 0.9732 - val_loss: 0.3406 - val_accuracy: 0.8968 - lr: 0.0083\n",
            "Epoch 24/25\n",
            "1719/1719 [==============================] - 6s 3ms/step - loss: 0.0804 - accuracy: 0.9748 - val_loss: 0.3478 - val_accuracy: 0.8964 - lr: 0.0080\n",
            "Epoch 25/25\n",
            "1719/1719 [==============================] - 6s 3ms/step - loss: 0.0772 - accuracy: 0.9763 - val_loss: 0.3477 - val_accuracy: 0.8962 - lr: 0.0077\n"
          ]
        }
      ]
    },
    {
      "cell_type": "code",
      "source": [
        "plt.plot(history.epoch, history.history[\"lr\"], \"o-\")\n",
        "plt.axis([0, n_epochs - 1, 0, initial_learning_rate])\n",
        "plt.xlabel(\"Epoch\")\n",
        "plt.ylabel(\"Learning Rate\")\n",
        "plt.title(\"Inverse Time Decay\", fontsize=14)\n",
        "plt.grid(True)\n",
        "plt.show()"
      ],
      "metadata": {
        "colab": {
          "base_uri": "https://localhost:8080/",
          "height": 296
        },
        "id": "eUSmRBnU8fRe",
        "outputId": "85ad0f6b-1239-42bf-ad50-d5bc677d8f63"
      },
      "execution_count": null,
      "outputs": [
        {
          "output_type": "display_data",
          "data": {
            "text/plain": [
              "<Figure size 432x288 with 1 Axes>"
            ],
            "image/png": "[encoded data removed]"
          },
          "metadata": {
            "needs_background": "light"
          }
        }
      ]
    },
    {
      "cell_type": "markdown",
      "source": [
        "## exponential decay"
      ],
      "metadata": {
        "id": "jirWnV5rXhL7"
      }
    },
    {
      "cell_type": "code",
      "source": [
        "initial_learning_rate = 0.1\n",
        "\n",
        "lr_schedule = tf.keras.optimizers.schedules.ExponentialDecay(\n",
        "    initial_learning_rate,\n",
        "    decay_steps=1,\n",
        "    decay_rate=0.5,\n",
        "    staircase=True)\n",
        "\n",
        "model = keras.models.Sequential([\n",
        "    keras.layers.Flatten(input_shape=[28, 28]),\n",
        "    keras.layers.Dense(300, activation=\"selu\", kernel_initializer=\"lecun_normal\"),\n",
        "    keras.layers.Dense(100, activation=\"selu\", kernel_initializer=\"lecun_normal\"),\n",
        "    keras.layers.Dense(10, activation=\"softmax\")\n",
        "])\n",
        "\n",
        "model.compile(optimizer=tf.keras.optimizers.SGD(learning_rate=lr_schedule),\n",
        "              loss='sparse_categorical_crossentropy',\n",
        "              metrics=['accuracy'])\n",
        "\n",
        "history = model.fit(X_train_scaled, y_train, epochs=n_epochs,\n",
        "                    validation_data=(X_valid_scaled, y_valid))"
      ],
      "metadata": {
        "colab": {
          "base_uri": "https://localhost:8080/"
        },
        "id": "ZWZ-rpHJXqTv",
        "outputId": "a100ab78-6b27-4b27-b83d-f680d2c27c37"
      },
      "execution_count": null,
      "outputs": [
        {
          "output_type": "stream",
          "name": "stdout",
          "text": [
            "Epoch 1/25\n",
            "1719/1719 [==============================] - 6s 3ms/step - loss: 1.4971 - accuracy: 0.5942 - val_loss: 1.4586 - val_accuracy: 0.6046\n",
            "Epoch 2/25\n",
            "1719/1719 [==============================] - 6s 3ms/step - loss: 1.4925 - accuracy: 0.5953 - val_loss: 1.4586 - val_accuracy: 0.6046\n",
            "Epoch 3/25\n",
            "1719/1719 [==============================] - 5s 3ms/step - loss: 1.4925 - accuracy: 0.5953 - val_loss: 1.4586 - val_accuracy: 0.6046\n",
            "Epoch 4/25\n",
            "1719/1719 [==============================] - 6s 3ms/step - loss: 1.4925 - accuracy: 0.5953 - val_loss: 1.4586 - val_accuracy: 0.6046\n",
            "Epoch 5/25\n",
            "1719/1719 [==============================] - 5s 3ms/step - loss: 1.4925 - accuracy: 0.5953 - val_loss: 1.4586 - val_accuracy: 0.6046\n",
            "Epoch 6/25\n",
            "1719/1719 [==============================] - 5s 3ms/step - loss: 1.4925 - accuracy: 0.5953 - val_loss: 1.4586 - val_accuracy: 0.6046\n",
            "Epoch 7/25\n",
            "1719/1719 [==============================] - 6s 3ms/step - loss: 1.4925 - accuracy: 0.5953 - val_loss: 1.4586 - val_accuracy: 0.6046\n",
            "Epoch 8/25\n",
            "1719/1719 [==============================] - 6s 3ms/step - loss: 1.4925 - accuracy: 0.5953 - val_loss: 1.4586 - val_accuracy: 0.6046\n",
            "Epoch 9/25\n",
            "1719/1719 [==============================] - 6s 3ms/step - loss: 1.4925 - accuracy: 0.5953 - val_loss: 1.4586 - val_accuracy: 0.6046\n",
            "Epoch 10/25\n",
            "1719/1719 [==============================] - 6s 3ms/step - loss: 1.4925 - accuracy: 0.5953 - val_loss: 1.4586 - val_accuracy: 0.6046\n",
            "Epoch 11/25\n",
            "1719/1719 [==============================] - 6s 3ms/step - loss: 1.4925 - accuracy: 0.5953 - val_loss: 1.4586 - val_accuracy: 0.6046\n",
            "Epoch 12/25\n",
            "1719/1719 [==============================] - 6s 3ms/step - loss: 1.4925 - accuracy: 0.5953 - val_loss: 1.4586 - val_accuracy: 0.6046\n",
            "Epoch 13/25\n",
            "1719/1719 [==============================] - 6s 3ms/step - loss: 1.4925 - accuracy: 0.5953 - val_loss: 1.4586 - val_accuracy: 0.6046\n",
            "Epoch 14/25\n",
            "1719/1719 [==============================] - 5s 3ms/step - loss: 1.4925 - accuracy: 0.5953 - val_loss: 1.4586 - val_accuracy: 0.6046\n",
            "Epoch 15/25\n",
            "1719/1719 [==============================] - 5s 3ms/step - loss: 1.4925 - accuracy: 0.5953 - val_loss: 1.4586 - val_accuracy: 0.6046\n",
            "Epoch 16/25\n",
            "1719/1719 [==============================] - 6s 3ms/step - loss: 1.4925 - accuracy: 0.5953 - val_loss: 1.4586 - val_accuracy: 0.6046\n",
            "Epoch 17/25\n",
            "1719/1719 [==============================] - 6s 3ms/step - loss: 1.4925 - accuracy: 0.5953 - val_loss: 1.4586 - val_accuracy: 0.6046\n",
            "Epoch 18/25\n",
            "1719/1719 [==============================] - 6s 3ms/step - loss: 1.4925 - accuracy: 0.5953 - val_loss: 1.4586 - val_accuracy: 0.6046\n",
            "Epoch 19/25\n",
            "1719/1719 [==============================] - 6s 3ms/step - loss: 1.4925 - accuracy: 0.5953 - val_loss: 1.4586 - val_accuracy: 0.6046\n",
            "Epoch 20/25\n",
            "1719/1719 [==============================] - 6s 3ms/step - loss: 1.4925 - accuracy: 0.5953 - val_loss: 1.4586 - val_accuracy: 0.6046\n",
            "Epoch 21/25\n",
            "1719/1719 [==============================] - 6s 3ms/step - loss: 1.4925 - accuracy: 0.5953 - val_loss: 1.4586 - val_accuracy: 0.6046\n",
            "Epoch 22/25\n",
            "1719/1719 [==============================] - 6s 3ms/step - loss: 1.4925 - accuracy: 0.5953 - val_loss: 1.4586 - val_accuracy: 0.6046\n",
            "Epoch 23/25\n",
            "1719/1719 [==============================] - 6s 3ms/step - loss: 1.4925 - accuracy: 0.5953 - val_loss: 1.4586 - val_accuracy: 0.6046\n",
            "Epoch 24/25\n",
            "1719/1719 [==============================] - 6s 3ms/step - loss: 1.4925 - accuracy: 0.5953 - val_loss: 1.4586 - val_accuracy: 0.6046\n",
            "Epoch 25/25\n",
            "1719/1719 [==============================] - 6s 3ms/step - loss: 1.4925 - accuracy: 0.5953 - val_loss: 1.4586 - val_accuracy: 0.6046\n"
          ]
        }
      ]
    },
    {
      "cell_type": "markdown",
      "source": [
        "### alternativamente usando callbacks"
      ],
      "metadata": {
        "id": "cL6LnzsF8WlK"
      }
    },
    {
      "cell_type": "code",
      "source": [
        "def exponential_decay(initial_learning_rate, decay_steps, decay_rate, staircase):\n",
        "  def exponential_decay_scheduler(epoch):\n",
        "    return float(tf.keras.backend.get_value(tf.keras.optimizers.schedules.ExponentialDecay(initial_learning_rate, decay_steps, decay_rate, staircase)(epoch)))\n",
        "  return exponential_decay_scheduler\n",
        "\n",
        "exponential_decay_fn = exponential_decay(initial_learning_rate=0.1,decay_steps=1, decay_rate=0.5, staircase=True)\n",
        "\n",
        "model = keras.models.Sequential([\n",
        "    keras.layers.Flatten(input_shape=[28, 28]),\n",
        "    keras.layers.Dense(300, activation=\"selu\", kernel_initializer=\"lecun_normal\"),\n",
        "    keras.layers.Dense(100, activation=\"selu\", kernel_initializer=\"lecun_normal\"),\n",
        "    keras.layers.Dense(10, activation=\"softmax\")\n",
        "])\n",
        "\n",
        "model.compile(optimizer='sgd',\n",
        "              loss='sparse_categorical_crossentropy',\n",
        "              metrics=['accuracy'])\n",
        "\n",
        "lr_scheduler = keras.callbacks.LearningRateScheduler(exponential_decay_fn)\n",
        "\n",
        "history = model.fit(X_train_scaled, y_train, epochs=n_epochs,\n",
        "                    validation_data=(X_valid_scaled, y_valid),\n",
        "                    callbacks=[lr_scheduler])"
      ],
      "metadata": {
        "colab": {
          "base_uri": "https://localhost:8080/"
        },
        "id": "CcdECUxL8VYS",
        "outputId": "bbc6f05d-fecb-4ba2-e04f-c5ca738ef2ec"
      },
      "execution_count": null,
      "outputs": [
        {
          "output_type": "stream",
          "name": "stdout",
          "text": [
            "Epoch 1/25\n",
            "1719/1719 [==============================] - 6s 3ms/step - loss: 0.4969 - accuracy: 0.8236 - val_loss: 0.4179 - val_accuracy: 0.8484 - lr: 0.1000\n",
            "Epoch 2/25\n",
            "1719/1719 [==============================] - 6s 3ms/step - loss: 0.3230 - accuracy: 0.8808 - val_loss: 0.3307 - val_accuracy: 0.8810 - lr: 0.0500\n",
            "Epoch 3/25\n",
            "1719/1719 [==============================] - 6s 3ms/step - loss: 0.2693 - accuracy: 0.9008 - val_loss: 0.3247 - val_accuracy: 0.8800 - lr: 0.0250\n",
            "Epoch 4/25\n",
            "1719/1719 [==============================] - 6s 3ms/step - loss: 0.2416 - accuracy: 0.9112 - val_loss: 0.3028 - val_accuracy: 0.8884 - lr: 0.0125\n",
            "Epoch 5/25\n",
            "1719/1719 [==============================] - 6s 3ms/step - loss: 0.2273 - accuracy: 0.9170 - val_loss: 0.2986 - val_accuracy: 0.8902 - lr: 0.0063\n",
            "Epoch 6/25\n",
            "1719/1719 [==============================] - 6s 3ms/step - loss: 0.2189 - accuracy: 0.9201 - val_loss: 0.2987 - val_accuracy: 0.8904 - lr: 0.0031\n",
            "Epoch 7/25\n",
            "1719/1719 [==============================] - 6s 3ms/step - loss: 0.2146 - accuracy: 0.9224 - val_loss: 0.2976 - val_accuracy: 0.8878 - lr: 0.0016\n",
            "Epoch 8/25\n",
            "1719/1719 [==============================] - 6s 3ms/step - loss: 0.2125 - accuracy: 0.9231 - val_loss: 0.2977 - val_accuracy: 0.8886 - lr: 7.8125e-04\n",
            "Epoch 9/25\n",
            "1719/1719 [==============================] - 6s 3ms/step - loss: 0.2114 - accuracy: 0.9239 - val_loss: 0.2976 - val_accuracy: 0.8890 - lr: 3.9063e-04\n",
            "Epoch 10/25\n",
            "1719/1719 [==============================] - 6s 3ms/step - loss: 0.2107 - accuracy: 0.9240 - val_loss: 0.2978 - val_accuracy: 0.8894 - lr: 1.9531e-04\n",
            "Epoch 11/25\n",
            "1719/1719 [==============================] - 5s 3ms/step - loss: 0.2105 - accuracy: 0.9245 - val_loss: 0.2977 - val_accuracy: 0.8892 - lr: 9.7656e-05\n",
            "Epoch 12/25\n",
            "1719/1719 [==============================] - 6s 3ms/step - loss: 0.2103 - accuracy: 0.9245 - val_loss: 0.2978 - val_accuracy: 0.8892 - lr: 4.8828e-05\n",
            "Epoch 13/25\n",
            "1719/1719 [==============================] - 6s 3ms/step - loss: 0.2102 - accuracy: 0.9245 - val_loss: 0.2978 - val_accuracy: 0.8892 - lr: 2.4414e-05\n",
            "Epoch 14/25\n",
            "1719/1719 [==============================] - 6s 3ms/step - loss: 0.2102 - accuracy: 0.9246 - val_loss: 0.2978 - val_accuracy: 0.8892 - lr: 1.2207e-05\n",
            "Epoch 15/25\n",
            "1719/1719 [==============================] - 6s 3ms/step - loss: 0.2102 - accuracy: 0.9245 - val_loss: 0.2978 - val_accuracy: 0.8892 - lr: 6.1035e-06\n",
            "Epoch 16/25\n",
            "1719/1719 [==============================] - 6s 3ms/step - loss: 0.2101 - accuracy: 0.9246 - val_loss: 0.2978 - val_accuracy: 0.8892 - lr: 3.0518e-06\n",
            "Epoch 17/25\n",
            "1719/1719 [==============================] - 6s 3ms/step - loss: 0.2101 - accuracy: 0.9246 - val_loss: 0.2978 - val_accuracy: 0.8892 - lr: 1.5259e-06\n",
            "Epoch 18/25\n",
            "1719/1719 [==============================] - 6s 3ms/step - loss: 0.2101 - accuracy: 0.9246 - val_loss: 0.2978 - val_accuracy: 0.8892 - lr: 7.6294e-07\n",
            "Epoch 19/25\n",
            "1719/1719 [==============================] - 6s 3ms/step - loss: 0.2101 - accuracy: 0.9246 - val_loss: 0.2978 - val_accuracy: 0.8892 - lr: 3.8147e-07\n",
            "Epoch 20/25\n",
            "1719/1719 [==============================] - 6s 3ms/step - loss: 0.2101 - accuracy: 0.9246 - val_loss: 0.2978 - val_accuracy: 0.8892 - lr: 1.9073e-07\n",
            "Epoch 21/25\n",
            "1719/1719 [==============================] - 6s 3ms/step - loss: 0.2101 - accuracy: 0.9246 - val_loss: 0.2978 - val_accuracy: 0.8892 - lr: 9.5367e-08\n",
            "Epoch 22/25\n",
            "1719/1719 [==============================] - 6s 3ms/step - loss: 0.2101 - accuracy: 0.9246 - val_loss: 0.2978 - val_accuracy: 0.8892 - lr: 4.7684e-08\n",
            "Epoch 23/25\n",
            "1719/1719 [==============================] - 6s 3ms/step - loss: 0.2101 - accuracy: 0.9246 - val_loss: 0.2978 - val_accuracy: 0.8892 - lr: 2.3842e-08\n",
            "Epoch 24/25\n",
            "1719/1719 [==============================] - 6s 3ms/step - loss: 0.2101 - accuracy: 0.9246 - val_loss: 0.2978 - val_accuracy: 0.8892 - lr: 1.1921e-08\n",
            "Epoch 25/25\n",
            "1719/1719 [==============================] - 6s 3ms/step - loss: 0.2101 - accuracy: 0.9246 - val_loss: 0.2978 - val_accuracy: 0.8892 - lr: 5.9605e-09\n"
          ]
        }
      ]
    },
    {
      "cell_type": "code",
      "source": [
        "plt.plot(history.epoch, history.history[\"lr\"], \"o-\")\n",
        "plt.axis([0, n_epochs - 1, 0, initial_learning_rate])\n",
        "plt.xlabel(\"Epoch\")\n",
        "plt.ylabel(\"Learning Rate\")\n",
        "plt.title(\"Exponential Decay\", fontsize=14)\n",
        "plt.grid(True)\n",
        "plt.show()"
      ],
      "metadata": {
        "colab": {
          "base_uri": "https://localhost:8080/",
          "height": 296
        },
        "id": "A4bnPuta-bth",
        "outputId": "39189eb1-447d-4951-80c1-db32e265a341"
      },
      "execution_count": null,
      "outputs": [
        {
          "output_type": "display_data",
          "data": {
            "text/plain": [
              "<Figure size 432x288 with 1 Axes>"
            ],
            "image/png": "[encoded data removed]"
          },
          "metadata": {
            "needs_background": "light"
          }
        }
      ]
    },
    {
      "cell_type": "markdown",
      "source": [
        "## Piecewise Constant Scheduling"
      ],
      "metadata": {
        "id": "WgFYr61DYA75"
      }
    },
    {
      "cell_type": "code",
      "source": [
        "step = tf.Variable(0, trainable=False)\n",
        "boundaries =  [5, 15]\n",
        "values = [0.01, 0.005, 0.001]\n",
        "lr_schedule = keras.optimizers.schedules.PiecewiseConstantDecay(boundaries, values)\n",
        "\n",
        "\n",
        "model = keras.models.Sequential([\n",
        "    keras.layers.Flatten(input_shape=[28, 28]),\n",
        "    keras.layers.Dense(300, activation=\"selu\", kernel_initializer=\"lecun_normal\"),\n",
        "    keras.layers.Dense(100, activation=\"selu\", kernel_initializer=\"lecun_normal\"),\n",
        "    keras.layers.Dense(10, activation=\"softmax\")\n",
        "])\n",
        "\n",
        "model.compile(optimizer=tf.keras.optimizers.SGD(learning_rate=lr_schedule),\n",
        "              loss='sparse_categorical_crossentropy',\n",
        "              metrics=['accuracy'])\n",
        "\n",
        "history = model.fit(X_train_scaled, y_train, epochs=n_epochs,\n",
        "                    validation_data=(X_valid_scaled, y_valid))"
      ],
      "metadata": {
        "colab": {
          "base_uri": "https://localhost:8080/"
        },
        "id": "Qo4X2BaOYB9Q",
        "outputId": "9fa90739-60e6-4c74-eb3c-c6829b0538cf"
      },
      "execution_count": null,
      "outputs": [
        {
          "output_type": "stream",
          "name": "stdout",
          "text": [
            "Epoch 1/25\n",
            "1719/1719 [==============================] - 6s 3ms/step - loss: 0.6520 - accuracy: 0.7749 - val_loss: 0.5222 - val_accuracy: 0.8142\n",
            "Epoch 2/25\n",
            "1719/1719 [==============================] - 6s 3ms/step - loss: 0.5010 - accuracy: 0.8261 - val_loss: 0.4668 - val_accuracy: 0.8350\n",
            "Epoch 3/25\n",
            "1719/1719 [==============================] - 6s 3ms/step - loss: 0.4591 - accuracy: 0.8399 - val_loss: 0.4464 - val_accuracy: 0.8442\n",
            "Epoch 4/25\n",
            "1719/1719 [==============================] - 6s 3ms/step - loss: 0.4346 - accuracy: 0.8485 - val_loss: 0.4278 - val_accuracy: 0.8498\n",
            "Epoch 5/25\n",
            "1719/1719 [==============================] - 6s 3ms/step - loss: 0.4174 - accuracy: 0.8555 - val_loss: 0.4154 - val_accuracy: 0.8554\n",
            "Epoch 6/25\n",
            "1719/1719 [==============================] - 6s 3ms/step - loss: 0.4039 - accuracy: 0.8594 - val_loss: 0.4071 - val_accuracy: 0.8582\n",
            "Epoch 7/25\n",
            "1719/1719 [==============================] - 6s 3ms/step - loss: 0.3932 - accuracy: 0.8634 - val_loss: 0.3985 - val_accuracy: 0.8634\n",
            "Epoch 8/25\n",
            "1719/1719 [==============================] - 6s 3ms/step - loss: 0.3842 - accuracy: 0.8661 - val_loss: 0.3975 - val_accuracy: 0.8656\n",
            "Epoch 9/25\n",
            "1719/1719 [==============================] - 6s 3ms/step - loss: 0.3761 - accuracy: 0.8683 - val_loss: 0.3882 - val_accuracy: 0.8666\n",
            "Epoch 10/25\n",
            "1719/1719 [==============================] - 6s 3ms/step - loss: 0.3689 - accuracy: 0.8720 - val_loss: 0.3847 - val_accuracy: 0.8678\n",
            "Epoch 11/25\n",
            "1719/1719 [==============================] - 6s 3ms/step - loss: 0.3626 - accuracy: 0.8729 - val_loss: 0.3815 - val_accuracy: 0.8668\n",
            "Epoch 12/25\n",
            "1719/1719 [==============================] - 6s 3ms/step - loss: 0.3569 - accuracy: 0.8755 - val_loss: 0.3813 - val_accuracy: 0.8660\n",
            "Epoch 13/25\n",
            "1719/1719 [==============================] - 6s 3ms/step - loss: 0.3513 - accuracy: 0.8778 - val_loss: 0.3737 - val_accuracy: 0.8716\n",
            "Epoch 14/25\n",
            "1719/1719 [==============================] - 6s 3ms/step - loss: 0.3464 - accuracy: 0.8781 - val_loss: 0.3738 - val_accuracy: 0.8718\n",
            "Epoch 15/25\n",
            "1719/1719 [==============================] - 6s 3ms/step - loss: 0.3416 - accuracy: 0.8806 - val_loss: 0.3705 - val_accuracy: 0.8710\n",
            "Epoch 16/25\n",
            "1719/1719 [==============================] - 6s 3ms/step - loss: 0.3371 - accuracy: 0.8825 - val_loss: 0.3671 - val_accuracy: 0.8718\n",
            "Epoch 17/25\n",
            "1719/1719 [==============================] - 6s 3ms/step - loss: 0.3329 - accuracy: 0.8842 - val_loss: 0.3660 - val_accuracy: 0.8738\n",
            "Epoch 18/25\n",
            "1719/1719 [==============================] - 6s 3ms/step - loss: 0.3289 - accuracy: 0.8855 - val_loss: 0.3618 - val_accuracy: 0.8724\n",
            "Epoch 19/25\n",
            "1719/1719 [==============================] - 6s 3ms/step - loss: 0.3252 - accuracy: 0.8865 - val_loss: 0.3624 - val_accuracy: 0.8718\n",
            "Epoch 20/25\n",
            "1719/1719 [==============================] - 6s 3ms/step - loss: 0.3216 - accuracy: 0.8870 - val_loss: 0.3584 - val_accuracy: 0.8734\n",
            "Epoch 21/25\n",
            "1719/1719 [==============================] - 6s 3ms/step - loss: 0.3178 - accuracy: 0.8888 - val_loss: 0.3587 - val_accuracy: 0.8730\n",
            "Epoch 22/25\n",
            "1719/1719 [==============================] - 6s 3ms/step - loss: 0.3147 - accuracy: 0.8897 - val_loss: 0.3555 - val_accuracy: 0.8758\n",
            "Epoch 23/25\n",
            "1719/1719 [==============================] - 6s 3ms/step - loss: 0.3114 - accuracy: 0.8908 - val_loss: 0.3560 - val_accuracy: 0.8750\n",
            "Epoch 24/25\n",
            "1719/1719 [==============================] - 6s 3ms/step - loss: 0.3083 - accuracy: 0.8923 - val_loss: 0.3532 - val_accuracy: 0.8748\n",
            "Epoch 25/25\n",
            "1719/1719 [==============================] - 6s 3ms/step - loss: 0.3056 - accuracy: 0.8930 - val_loss: 0.3525 - val_accuracy: 0.8756\n"
          ]
        }
      ]
    },
    {
      "cell_type": "markdown",
      "source": [
        "### alternativamente usando callbacks"
      ],
      "metadata": {
        "id": "E7I-Uz_r_DXV"
      }
    },
    {
      "cell_type": "code",
      "source": [
        "def piecewiseConstantDecay(boundaries, values):\n",
        "  def piecewiseConstantDecay_scheduler(epoch):\n",
        "    return float(tf.keras.backend.get_value(keras.optimizers.schedules.PiecewiseConstantDecay(boundaries, values)(epoch)))\n",
        "  return piecewiseConstantDecay_scheduler\n",
        "\n",
        "piecewiseConstantDecay_fn = piecewiseConstantDecay(boundaries, values)\n",
        "\n",
        "model = keras.models.Sequential([\n",
        "    keras.layers.Flatten(input_shape=[28, 28]),\n",
        "    keras.layers.Dense(300, activation=\"selu\", kernel_initializer=\"lecun_normal\"),\n",
        "    keras.layers.Dense(100, activation=\"selu\", kernel_initializer=\"lecun_normal\"),\n",
        "    keras.layers.Dense(10, activation=\"softmax\")\n",
        "])\n",
        "\n",
        "model.compile(optimizer='sgd',\n",
        "              loss='sparse_categorical_crossentropy',\n",
        "              metrics=['accuracy'])\n",
        "\n",
        "lr_scheduler = keras.callbacks.LearningRateScheduler(piecewiseConstantDecay_fn)\n",
        "\n",
        "history = model.fit(X_train_scaled, y_train, epochs=n_epochs,\n",
        "                    validation_data=(X_valid_scaled, y_valid),\n",
        "                    callbacks=[lr_scheduler])"
      ],
      "metadata": {
        "colab": {
          "base_uri": "https://localhost:8080/"
        },
        "id": "7qmHoNQA_a6_",
        "outputId": "2f15d928-14ec-4820-a5ef-802370570624"
      },
      "execution_count": null,
      "outputs": [
        {
          "output_type": "stream",
          "name": "stdout",
          "text": [
            "Epoch 1/25\n",
            "1719/1719 [==============================] - 7s 4ms/step - loss: 0.4857 - accuracy: 0.8287 - val_loss: 0.4041 - val_accuracy: 0.8578 - lr: 0.0100\n",
            "Epoch 2/25\n",
            "1719/1719 [==============================] - 5s 3ms/step - loss: 0.3783 - accuracy: 0.8663 - val_loss: 0.3701 - val_accuracy: 0.8736 - lr: 0.0100\n",
            "Epoch 3/25\n",
            "1719/1719 [==============================] - 5s 3ms/step - loss: 0.3439 - accuracy: 0.8756 - val_loss: 0.3789 - val_accuracy: 0.8686 - lr: 0.0100\n",
            "Epoch 4/25\n",
            "1719/1719 [==============================] - 5s 3ms/step - loss: 0.3206 - accuracy: 0.8846 - val_loss: 0.3460 - val_accuracy: 0.8814 - lr: 0.0100\n",
            "Epoch 5/25\n",
            "1719/1719 [==============================] - 5s 3ms/step - loss: 0.3034 - accuracy: 0.8906 - val_loss: 0.3412 - val_accuracy: 0.8784 - lr: 0.0100\n",
            "Epoch 6/25\n",
            "1719/1719 [==============================] - 6s 3ms/step - loss: 0.2865 - accuracy: 0.8968 - val_loss: 0.3390 - val_accuracy: 0.8820 - lr: 0.0100\n",
            "Epoch 7/25\n",
            "1719/1719 [==============================] - 5s 3ms/step - loss: 0.2627 - accuracy: 0.9055 - val_loss: 0.3276 - val_accuracy: 0.8822 - lr: 0.0050\n",
            "Epoch 8/25\n",
            "1719/1719 [==============================] - 6s 3ms/step - loss: 0.2552 - accuracy: 0.9088 - val_loss: 0.3342 - val_accuracy: 0.8806 - lr: 0.0050\n",
            "Epoch 9/25\n",
            "1719/1719 [==============================] - 5s 3ms/step - loss: 0.2486 - accuracy: 0.9102 - val_loss: 0.3233 - val_accuracy: 0.8848 - lr: 0.0050\n",
            "Epoch 10/25\n",
            "1719/1719 [==============================] - 5s 3ms/step - loss: 0.2424 - accuracy: 0.9129 - val_loss: 0.3209 - val_accuracy: 0.8854 - lr: 0.0050\n",
            "Epoch 11/25\n",
            "1719/1719 [==============================] - 5s 3ms/step - loss: 0.2370 - accuracy: 0.9146 - val_loss: 0.3242 - val_accuracy: 0.8854 - lr: 0.0050\n",
            "Epoch 12/25\n",
            "1719/1719 [==============================] - 5s 3ms/step - loss: 0.2311 - accuracy: 0.9177 - val_loss: 0.3350 - val_accuracy: 0.8822 - lr: 0.0050\n",
            "Epoch 13/25\n",
            "1719/1719 [==============================] - 5s 3ms/step - loss: 0.2255 - accuracy: 0.9189 - val_loss: 0.3218 - val_accuracy: 0.8880 - lr: 0.0050\n",
            "Epoch 14/25\n",
            "1719/1719 [==============================] - 6s 3ms/step - loss: 0.2212 - accuracy: 0.9205 - val_loss: 0.3281 - val_accuracy: 0.8872 - lr: 0.0050\n",
            "Epoch 15/25\n",
            "1719/1719 [==============================] - 5s 3ms/step - loss: 0.2152 - accuracy: 0.9236 - val_loss: 0.3224 - val_accuracy: 0.8904 - lr: 0.0050\n",
            "Epoch 16/25\n",
            "1719/1719 [==============================] - 5s 3ms/step - loss: 0.2111 - accuracy: 0.9245 - val_loss: 0.3205 - val_accuracy: 0.8884 - lr: 0.0050\n",
            "Epoch 17/25\n",
            "1719/1719 [==============================] - 5s 3ms/step - loss: 0.1953 - accuracy: 0.9322 - val_loss: 0.3160 - val_accuracy: 0.8910 - lr: 0.0010\n",
            "Epoch 18/25\n",
            "1719/1719 [==============================] - 6s 3ms/step - loss: 0.1936 - accuracy: 0.9329 - val_loss: 0.3156 - val_accuracy: 0.8904 - lr: 0.0010\n",
            "Epoch 19/25\n",
            "1719/1719 [==============================] - 6s 3ms/step - loss: 0.1925 - accuracy: 0.9339 - val_loss: 0.3173 - val_accuracy: 0.8904 - lr: 0.0010\n",
            "Epoch 20/25\n",
            "1719/1719 [==============================] - 6s 3ms/step - loss: 0.1914 - accuracy: 0.9345 - val_loss: 0.3156 - val_accuracy: 0.8920 - lr: 0.0010\n",
            "Epoch 21/25\n",
            "1719/1719 [==============================] - 6s 3ms/step - loss: 0.1899 - accuracy: 0.9352 - val_loss: 0.3174 - val_accuracy: 0.8908 - lr: 0.0010\n",
            "Epoch 22/25\n",
            "1719/1719 [==============================] - 6s 3ms/step - loss: 0.1892 - accuracy: 0.9348 - val_loss: 0.3163 - val_accuracy: 0.8910 - lr: 0.0010\n",
            "Epoch 23/25\n",
            "1719/1719 [==============================] - 5s 3ms/step - loss: 0.1880 - accuracy: 0.9351 - val_loss: 0.3178 - val_accuracy: 0.8908 - lr: 0.0010\n",
            "Epoch 24/25\n",
            "1719/1719 [==============================] - 6s 3ms/step - loss: 0.1869 - accuracy: 0.9356 - val_loss: 0.3173 - val_accuracy: 0.8900 - lr: 0.0010\n",
            "Epoch 25/25\n",
            "1719/1719 [==============================] - 6s 3ms/step - loss: 0.1861 - accuracy: 0.9356 - val_loss: 0.3183 - val_accuracy: 0.8892 - lr: 0.0010\n"
          ]
        }
      ]
    },
    {
      "cell_type": "code",
      "source": [
        "plt.plot(history.epoch, history.history[\"lr\"], \"o-\")\n",
        "plt.axis([0, n_epochs - 1, 0, values[0]])\n",
        "plt.xlabel(\"Epoch\")\n",
        "plt.ylabel(\"Learning Rate\")\n",
        "plt.title(\"Piecewise Constant Decay\", fontsize=14)\n",
        "plt.grid(True)\n",
        "plt.show()"
      ],
      "metadata": {
        "colab": {
          "base_uri": "https://localhost:8080/",
          "height": 296
        },
        "id": "9_AFaXqx_9wB",
        "outputId": "7526b0fd-e229-4008-d7ea-a2679c0ae814"
      },
      "execution_count": null,
      "outputs": [
        {
          "output_type": "display_data",
          "data": {
            "text/plain": [
              "<Figure size 432x288 with 1 Axes>"
            ],
            "image/png": "[encoded data removed]"
          },
          "metadata": {
            "needs_background": "light"
          }
        }
      ]
    },
    {
      "cell_type": "markdown",
      "source": [
        "## Performance scheduling"
      ],
      "metadata": {
        "id": "Ee-9CSmoZ0QG"
      }
    },
    {
      "cell_type": "code",
      "source": [
        "lr_scheduler = keras.callbacks.ReduceLROnPlateau(factor=0.5, patience=5)\n",
        "\n",
        "#model = keras.models.Sequential([\n",
        "#    keras.layers.Flatten(input_shape=[28, 28]),\n",
        "#    keras.layers.Dense(300, activation=\"selu\", kernel_initializer=\"lecun_normal\"),\n",
        "#    keras.layers.Dense(100, activation=\"selu\", kernel_initializer=\"lecun_normal\"),\n",
        "#    keras.layers.Dense(10, activation=\"softmax\")\n",
        "#])\n",
        "learning_rate=0.02\n",
        "optimizer = keras.optimizers.SGD(learning_ratelearning_rate, momentum=0.9)\n",
        "model.compile(loss=\"sparse_categorical_crossentropy\", optimizer=optimizer, metrics=[\"accuracy\"])\n",
        "history = model.fit(X_train_scaled, y_train, epochs=n_epochs,\n",
        "                    validation_data=(X_valid_scaled, y_valid),\n",
        "                    callbacks=[lr_scheduler])"
      ],
      "metadata": {
        "colab": {
          "base_uri": "https://localhost:8080/"
        },
        "id": "SwB1Z1hfZ5EZ",
        "outputId": "2d2603c4-d219-46b7-f27d-57f7f0e5661c"
      },
      "execution_count": null,
      "outputs": [
        {
          "output_type": "stream",
          "name": "stdout",
          "text": [
            "Epoch 1/25\n",
            "1719/1719 [==============================] - 6s 3ms/step - loss: 0.6519 - accuracy: 0.8091 - val_loss: 0.5699 - val_accuracy: 0.8416 - lr: 0.0200\n",
            "Epoch 2/25\n",
            "1719/1719 [==============================] - 6s 3ms/step - loss: 0.5278 - accuracy: 0.8381 - val_loss: 0.5939 - val_accuracy: 0.8406 - lr: 0.0200\n",
            "Epoch 3/25\n",
            "1719/1719 [==============================] - 6s 3ms/step - loss: 0.5268 - accuracy: 0.8437 - val_loss: 0.5716 - val_accuracy: 0.8452 - lr: 0.0200\n",
            "Epoch 4/25\n",
            "1719/1719 [==============================] - 6s 3ms/step - loss: 0.5213 - accuracy: 0.8492 - val_loss: 0.4932 - val_accuracy: 0.8604 - lr: 0.0200\n",
            "Epoch 5/25\n",
            "1719/1719 [==============================] - 6s 3ms/step - loss: 0.5184 - accuracy: 0.8528 - val_loss: 0.4931 - val_accuracy: 0.8514 - lr: 0.0200\n",
            "Epoch 6/25\n",
            "1719/1719 [==============================] - 6s 3ms/step - loss: 0.5129 - accuracy: 0.8557 - val_loss: 0.5426 - val_accuracy: 0.8496 - lr: 0.0200\n",
            "Epoch 7/25\n",
            "1719/1719 [==============================] - 6s 3ms/step - loss: 0.5202 - accuracy: 0.8559 - val_loss: 0.7322 - val_accuracy: 0.8362 - lr: 0.0200\n",
            "Epoch 8/25\n",
            "1719/1719 [==============================] - 6s 3ms/step - loss: 0.5377 - accuracy: 0.8553 - val_loss: 0.9357 - val_accuracy: 0.8054 - lr: 0.0200\n",
            "Epoch 9/25\n",
            "1719/1719 [==============================] - 6s 3ms/step - loss: 0.5769 - accuracy: 0.8510 - val_loss: 0.6860 - val_accuracy: 0.8382 - lr: 0.0200\n",
            "Epoch 10/25\n",
            "1719/1719 [==============================] - 6s 3ms/step - loss: 0.5213 - accuracy: 0.8596 - val_loss: 0.6547 - val_accuracy: 0.8488 - lr: 0.0200\n",
            "Epoch 11/25\n",
            "1719/1719 [==============================] - 6s 3ms/step - loss: 0.3016 - accuracy: 0.8983 - val_loss: 0.4099 - val_accuracy: 0.8838 - lr: 0.0100\n",
            "Epoch 12/25\n",
            "1719/1719 [==============================] - 6s 3ms/step - loss: 0.2397 - accuracy: 0.9120 - val_loss: 0.5005 - val_accuracy: 0.8710 - lr: 0.0100\n",
            "Epoch 13/25\n",
            "1719/1719 [==============================] - 6s 4ms/step - loss: 0.2237 - accuracy: 0.9176 - val_loss: 0.4686 - val_accuracy: 0.8820 - lr: 0.0100\n",
            "Epoch 14/25\n",
            "1719/1719 [==============================] - 6s 3ms/step - loss: 0.2047 - accuracy: 0.9235 - val_loss: 0.4689 - val_accuracy: 0.8822 - lr: 0.0100\n",
            "Epoch 15/25\n",
            "1719/1719 [==============================] - 6s 3ms/step - loss: 0.1963 - accuracy: 0.9280 - val_loss: 0.4825 - val_accuracy: 0.8822 - lr: 0.0100\n",
            "Epoch 16/25\n",
            "1719/1719 [==============================] - 6s 3ms/step - loss: 0.1851 - accuracy: 0.9311 - val_loss: 0.4939 - val_accuracy: 0.8884 - lr: 0.0100\n",
            "Epoch 17/25\n",
            "1719/1719 [==============================] - 6s 3ms/step - loss: 0.1353 - accuracy: 0.9469 - val_loss: 0.4825 - val_accuracy: 0.8868 - lr: 0.0050\n",
            "Epoch 18/25\n",
            "1719/1719 [==============================] - 6s 3ms/step - loss: 0.1226 - accuracy: 0.9507 - val_loss: 0.4989 - val_accuracy: 0.8876 - lr: 0.0050\n",
            "Epoch 19/25\n",
            "1719/1719 [==============================] - 6s 3ms/step - loss: 0.1141 - accuracy: 0.9553 - val_loss: 0.5204 - val_accuracy: 0.8924 - lr: 0.0050\n",
            "Epoch 20/25\n",
            "1719/1719 [==============================] - 6s 3ms/step - loss: 0.1093 - accuracy: 0.9567 - val_loss: 0.5222 - val_accuracy: 0.8910 - lr: 0.0050\n",
            "Epoch 21/25\n",
            "1719/1719 [==============================] - 6s 3ms/step - loss: 0.1012 - accuracy: 0.9598 - val_loss: 0.5448 - val_accuracy: 0.8918 - lr: 0.0050\n",
            "Epoch 22/25\n",
            "1719/1719 [==============================] - 6s 3ms/step - loss: 0.0853 - accuracy: 0.9670 - val_loss: 0.5420 - val_accuracy: 0.8946 - lr: 0.0025\n",
            "Epoch 23/25\n",
            "1719/1719 [==============================] - 6s 3ms/step - loss: 0.0800 - accuracy: 0.9690 - val_loss: 0.5424 - val_accuracy: 0.8966 - lr: 0.0025\n",
            "Epoch 24/25\n",
            "1719/1719 [==============================] - 6s 3ms/step - loss: 0.0769 - accuracy: 0.9705 - val_loss: 0.5582 - val_accuracy: 0.8948 - lr: 0.0025\n",
            "Epoch 25/25\n",
            "1719/1719 [==============================] - 6s 3ms/step - loss: 0.0744 - accuracy: 0.9717 - val_loss: 0.5737 - val_accuracy: 0.8908 - lr: 0.0025\n"
          ]
        }
      ]
    },
    {
      "cell_type": "code",
      "source": [
        "plt.plot(history.epoch, history.history[\"lr\"], \"o-\")\n",
        "plt.axis([0, n_epochs - 1, 0, learning_rate])\n",
        "plt.xlabel(\"Epoch\")\n",
        "plt.ylabel(\"Learning Rate\")\n",
        "plt.title(\"ReduceLROnPlateau\", fontsize=14)\n",
        "plt.grid(True)\n",
        "plt.show()"
      ],
      "metadata": {
        "colab": {
          "base_uri": "https://localhost:8080/",
          "height": 296
        },
        "id": "fat5wZkBfNMV",
        "outputId": "b6d043d1-6e73-4924-871d-4f3f8cdd3d5e"
      },
      "execution_count": null,
      "outputs": [
        {
          "output_type": "display_data",
          "data": {
            "text/plain": [
              "<Figure size 432x288 with 1 Axes>"
            ],
            "image/png": "[encoded data removed]"
          },
          "metadata": {
            "needs_background": "light"
          }
        }
      ]
    },
    {
      "cell_type": "markdown",
      "source": [
        "# Cyclical Learning rate"
      ],
      "metadata": {
        "id": "XyTFqXlqM-NM"
      }
    },
    {
      "cell_type": "code",
      "source": [
        "pip install -q -U tensorflow_addons"
      ],
      "metadata": {
        "id": "HddMaP0TNBdA"
      },
      "execution_count": null,
      "outputs": []
    },
    {
      "cell_type": "code",
      "source": [
        "import tensorflow_addons as tfa"
      ],
      "metadata": {
        "id": "9AxCOZ-XNKM8"
      },
      "execution_count": null,
      "outputs": []
    },
    {
      "cell_type": "code",
      "source": [
        "BATCH_SIZE = 32\n",
        "INIT_LR = 1e-4\n",
        "MAX_LR = 1e-2"
      ],
      "metadata": {
        "id": "NV4Go0_cNQIp"
      },
      "execution_count": null,
      "outputs": []
    },
    {
      "cell_type": "code",
      "source": [
        "#steps_per_epoch = len(x_train) // BATCH_SIZE\n",
        "steps_per_epoch=1\n",
        "lr_schedule = tfa.optimizers.CyclicalLearningRate(initial_learning_rate=INIT_LR,\n",
        "                                                  maximal_learning_rate=MAX_LR,\n",
        "                                                  scale_fn=lambda x: 1/(2.**(x-1)),\n",
        "                                                  step_size=2 * steps_per_epoch)"
      ],
      "metadata": {
        "id": "SHxSUSePOWi6"
      },
      "execution_count": null,
      "outputs": []
    },
    {
      "cell_type": "code",
      "source": [
        "model = keras.models.Sequential([\n",
        "    keras.layers.Flatten(input_shape=[28, 28]),\n",
        "    keras.layers.Dense(300, activation=\"selu\", kernel_initializer=\"lecun_normal\"),\n",
        "    keras.layers.Dense(100, activation=\"selu\", kernel_initializer=\"lecun_normal\"),\n",
        "    keras.layers.Dense(10, activation=\"softmax\")\n",
        "])\n",
        "\n",
        "model.compile(optimizer=tf.keras.optimizers.SGD(learning_rate=lr_schedule),\n",
        "              loss='sparse_categorical_crossentropy',\n",
        "              metrics=['accuracy'])\n",
        "\n",
        "history = model.fit(X_train_scaled, y_train, epochs=n_epochs,\n",
        "                    validation_data=(X_valid_scaled, y_valid))"
      ],
      "metadata": {
        "colab": {
          "base_uri": "https://localhost:8080/"
        },
        "id": "LlkEqxoKOprd",
        "outputId": "8b9370ec-fc1c-47c2-8293-1833edd23af6"
      },
      "execution_count": null,
      "outputs": [
        {
          "output_type": "stream",
          "name": "stdout",
          "text": [
            "Epoch 1/25\n",
            "1719/1719 [==============================] - 9s 5ms/step - loss: 1.0675 - accuracy: 0.6446 - val_loss: 0.8444 - val_accuracy: 0.7114\n",
            "Epoch 2/25\n",
            "1719/1719 [==============================] - 10s 6ms/step - loss: 0.7886 - accuracy: 0.7319 - val_loss: 0.7152 - val_accuracy: 0.7498\n",
            "Epoch 3/25\n",
            "1719/1719 [==============================] - 7s 4ms/step - loss: 0.6977 - accuracy: 0.7595 - val_loss: 0.6532 - val_accuracy: 0.7730\n",
            "Epoch 4/25\n",
            "1719/1719 [==============================] - 7s 4ms/step - loss: 0.6470 - accuracy: 0.7749 - val_loss: 0.6139 - val_accuracy: 0.7884\n",
            "Epoch 5/25\n",
            "1719/1719 [==============================] - 5s 3ms/step - loss: 0.6132 - accuracy: 0.7870 - val_loss: 0.5875 - val_accuracy: 0.7956\n",
            "Epoch 6/25\n",
            "1719/1719 [==============================] - 9s 5ms/step - loss: 0.5884 - accuracy: 0.7952 - val_loss: 0.5673 - val_accuracy: 0.8030\n",
            "Epoch 7/25\n",
            "1719/1719 [==============================] - 10s 6ms/step - loss: 0.5692 - accuracy: 0.8025 - val_loss: 0.5511 - val_accuracy: 0.8082\n",
            "Epoch 8/25\n",
            "1719/1719 [==============================] - 8s 5ms/step - loss: 0.5538 - accuracy: 0.8072 - val_loss: 0.5380 - val_accuracy: 0.8112\n",
            "Epoch 9/25\n",
            "1719/1719 [==============================] - 6s 3ms/step - loss: 0.5410 - accuracy: 0.8121 - val_loss: 0.5272 - val_accuracy: 0.8154\n",
            "Epoch 10/25\n",
            "1719/1719 [==============================] - 6s 3ms/step - loss: 0.5302 - accuracy: 0.8159 - val_loss: 0.5178 - val_accuracy: 0.8174\n",
            "Epoch 11/25\n",
            "1719/1719 [==============================] - 6s 3ms/step - loss: 0.5208 - accuracy: 0.8178 - val_loss: 0.5097 - val_accuracy: 0.8210\n",
            "Epoch 12/25\n",
            "1719/1719 [==============================] - 5s 3ms/step - loss: 0.5126 - accuracy: 0.8206 - val_loss: 0.5027 - val_accuracy: 0.8246\n",
            "Epoch 13/25\n",
            "1719/1719 [==============================] - 5s 3ms/step - loss: 0.5053 - accuracy: 0.8230 - val_loss: 0.4964 - val_accuracy: 0.8278\n",
            "Epoch 14/25\n",
            "1719/1719 [==============================] - 6s 3ms/step - loss: 0.4988 - accuracy: 0.8252 - val_loss: 0.4911 - val_accuracy: 0.8294\n",
            "Epoch 15/25\n",
            "1719/1719 [==============================] - 5s 3ms/step - loss: 0.4930 - accuracy: 0.8273 - val_loss: 0.4860 - val_accuracy: 0.8310\n",
            "Epoch 16/25\n",
            "1719/1719 [==============================] - 6s 3ms/step - loss: 0.4876 - accuracy: 0.8286 - val_loss: 0.4816 - val_accuracy: 0.8316\n",
            "Epoch 17/25\n",
            "1719/1719 [==============================] - 6s 3ms/step - loss: 0.4826 - accuracy: 0.8307 - val_loss: 0.4772 - val_accuracy: 0.8334\n",
            "Epoch 18/25\n",
            "1719/1719 [==============================] - 5s 3ms/step - loss: 0.4781 - accuracy: 0.8323 - val_loss: 0.4733 - val_accuracy: 0.8344\n",
            "Epoch 19/25\n",
            "1719/1719 [==============================] - 6s 3ms/step - loss: 0.4739 - accuracy: 0.8333 - val_loss: 0.4698 - val_accuracy: 0.8352\n",
            "Epoch 20/25\n",
            "1719/1719 [==============================] - 5s 3ms/step - loss: 0.4700 - accuracy: 0.8347 - val_loss: 0.4667 - val_accuracy: 0.8350\n",
            "Epoch 21/25\n",
            "1719/1719 [==============================] - 5s 3ms/step - loss: 0.4663 - accuracy: 0.8360 - val_loss: 0.4638 - val_accuracy: 0.8356\n",
            "Epoch 22/25\n",
            "1719/1719 [==============================] - 6s 3ms/step - loss: 0.4628 - accuracy: 0.8375 - val_loss: 0.4607 - val_accuracy: 0.8386\n",
            "Epoch 23/25\n",
            "1719/1719 [==============================] - 6s 3ms/step - loss: 0.4596 - accuracy: 0.8385 - val_loss: 0.4586 - val_accuracy: 0.8378\n",
            "Epoch 24/25\n",
            "1719/1719 [==============================] - 6s 3ms/step - loss: 0.4565 - accuracy: 0.8395 - val_loss: 0.4556 - val_accuracy: 0.8406\n",
            "Epoch 25/25\n",
            "1719/1719 [==============================] - 6s 3ms/step - loss: 0.4536 - accuracy: 0.8405 - val_loss: 0.4534 - val_accuracy: 0.8404\n"
          ]
        }
      ]
    },
    {
      "cell_type": "markdown",
      "source": [
        "### alternativamente usando callbacks\n"
      ],
      "metadata": {
        "id": "dFbQRYAZP98l"
      }
    },
    {
      "cell_type": "code",
      "source": [
        "def CyclicalLearningRateDecay(initial_learning_rate, maximal_learning_rate,scale_fn,step_size):\n",
        "  def CyclicalLearningRateDecay_scheduler(epoch):\n",
        "    return float(tfa.optimizers.CyclicalLearningRate(initial_learning_rate,maximal_learning_rate,scale_fn=lambda x: 1/(2.**(x-1)),step_size=2 * steps_per_epoch)(epoch))\n",
        "  return CyclicalLearningRateDecay_scheduler\n",
        "\n",
        "CyclicalLearningRate_fn = CyclicalLearningRateDecay(INIT_LR,\n",
        "                                                    MAX_LR,\n",
        "                                                    scale_fn=lambda x: 1/(2.**(x-1)),\n",
        "                                                    step_size=2 * steps_per_epoch)\n",
        "\n",
        "model = keras.models.Sequential([\n",
        "    keras.layers.Flatten(input_shape=[28, 28]),\n",
        "    keras.layers.Dense(300, activation=\"selu\", kernel_initializer=\"lecun_normal\"),\n",
        "    keras.layers.Dense(100, activation=\"selu\", kernel_initializer=\"lecun_normal\"),\n",
        "    keras.layers.Dense(10, activation=\"softmax\")\n",
        "])\n",
        "\n",
        "model.compile(optimizer='sgd',\n",
        "              loss='sparse_categorical_crossentropy',\n",
        "              metrics=['accuracy'])\n",
        "\n",
        "lr_scheduler = keras.callbacks.LearningRateScheduler(CyclicalLearningRate_fn)\n",
        "\n",
        "history = model.fit(X_train_scaled, y_train, epochs=n_epochs,\n",
        "                    validation_data=(X_valid_scaled, y_valid),\n",
        "                    callbacks=[lr_scheduler])"
      ],
      "metadata": {
        "colab": {
          "base_uri": "https://localhost:8080/"
        },
        "id": "osjiULnaQD_x",
        "outputId": "f5f60f50-521b-432d-bd0b-d4fa94a95d96"
      },
      "execution_count": null,
      "outputs": [
        {
          "output_type": "stream",
          "name": "stdout",
          "text": [
            "Epoch 1/25\n",
            "1719/1719 [==============================] - 8s 5ms/step - loss: 1.2936 - accuracy: 0.5618 - val_loss: 0.8924 - val_accuracy: 0.7082 - lr: 1.0000e-04\n",
            "Epoch 2/25\n",
            "1719/1719 [==============================] - 10s 6ms/step - loss: 0.4990 - accuracy: 0.8254 - val_loss: 0.4150 - val_accuracy: 0.8586 - lr: 0.0050\n",
            "Epoch 3/25\n",
            "1719/1719 [==============================] - 6s 4ms/step - loss: 0.4064 - accuracy: 0.8563 - val_loss: 0.4030 - val_accuracy: 0.8544 - lr: 0.0100\n",
            "Epoch 4/25\n",
            "1719/1719 [==============================] - 6s 3ms/step - loss: 0.3527 - accuracy: 0.8758 - val_loss: 0.3623 - val_accuracy: 0.8724 - lr: 0.0050\n",
            "Epoch 5/25\n",
            "1719/1719 [==============================] - 6s 3ms/step - loss: 0.3307 - accuracy: 0.8843 - val_loss: 0.3587 - val_accuracy: 0.8750 - lr: 1.0000e-04\n",
            "Epoch 6/25\n",
            "1719/1719 [==============================] - 5s 3ms/step - loss: 0.3307 - accuracy: 0.8838 - val_loss: 0.3577 - val_accuracy: 0.8752 - lr: 0.0026\n",
            "Epoch 7/25\n",
            "1719/1719 [==============================] - 6s 3ms/step - loss: 0.3283 - accuracy: 0.8850 - val_loss: 0.3544 - val_accuracy: 0.8778 - lr: 0.0050\n",
            "Epoch 8/25\n",
            "1719/1719 [==============================] - 6s 3ms/step - loss: 0.3106 - accuracy: 0.8907 - val_loss: 0.3513 - val_accuracy: 0.8754 - lr: 0.0026\n",
            "Epoch 9/25\n",
            "1719/1719 [==============================] - 5s 3ms/step - loss: 0.3002 - accuracy: 0.8949 - val_loss: 0.3459 - val_accuracy: 0.8794 - lr: 1.0000e-04\n",
            "Epoch 10/25\n",
            "1719/1719 [==============================] - 6s 3ms/step - loss: 0.3008 - accuracy: 0.8950 - val_loss: 0.3452 - val_accuracy: 0.8792 - lr: 0.0013\n",
            "Epoch 11/25\n",
            "1719/1719 [==============================] - 6s 3ms/step - loss: 0.3006 - accuracy: 0.8943 - val_loss: 0.3458 - val_accuracy: 0.8780 - lr: 0.0026\n",
            "Epoch 12/25\n",
            "1719/1719 [==============================] - 6s 3ms/step - loss: 0.2923 - accuracy: 0.8974 - val_loss: 0.3449 - val_accuracy: 0.8788 - lr: 0.0013\n",
            "Epoch 13/25\n",
            "1719/1719 [==============================] - 6s 3ms/step - loss: 0.2865 - accuracy: 0.9001 - val_loss: 0.3411 - val_accuracy: 0.8806 - lr: 1.0000e-04\n",
            "Epoch 14/25\n",
            "1719/1719 [==============================] - 6s 3ms/step - loss: 0.2875 - accuracy: 0.8996 - val_loss: 0.3416 - val_accuracy: 0.8800 - lr: 7.1875e-04\n",
            "Epoch 15/25\n",
            "1719/1719 [==============================] - 6s 3ms/step - loss: 0.2873 - accuracy: 0.8989 - val_loss: 0.3418 - val_accuracy: 0.8788 - lr: 0.0013\n",
            "Epoch 16/25\n",
            "1719/1719 [==============================] - 6s 3ms/step - loss: 0.2830 - accuracy: 0.9009 - val_loss: 0.3391 - val_accuracy: 0.8814 - lr: 7.1875e-04\n",
            "Epoch 17/25\n",
            "1719/1719 [==============================] - 6s 3ms/step - loss: 0.2800 - accuracy: 0.9027 - val_loss: 0.3386 - val_accuracy: 0.8808 - lr: 1.0000e-04\n",
            "Epoch 18/25\n",
            "1719/1719 [==============================] - 6s 3ms/step - loss: 0.2804 - accuracy: 0.9021 - val_loss: 0.3380 - val_accuracy: 0.8804 - lr: 4.0938e-04\n",
            "Epoch 19/25\n",
            "1719/1719 [==============================] - 7s 4ms/step - loss: 0.2805 - accuracy: 0.9020 - val_loss: 0.3393 - val_accuracy: 0.8816 - lr: 7.1875e-04\n",
            "Epoch 20/25\n",
            "1719/1719 [==============================] - 6s 3ms/step - loss: 0.2783 - accuracy: 0.9029 - val_loss: 0.3377 - val_accuracy: 0.8802 - lr: 4.0938e-04\n",
            "Epoch 21/25\n",
            "1719/1719 [==============================] - 6s 3ms/step - loss: 0.2764 - accuracy: 0.9036 - val_loss: 0.3377 - val_accuracy: 0.8814 - lr: 1.0000e-04\n",
            "Epoch 22/25\n",
            "1719/1719 [==============================] - 6s 3ms/step - loss: 0.2766 - accuracy: 0.9038 - val_loss: 0.3374 - val_accuracy: 0.8806 - lr: 2.5469e-04\n",
            "Epoch 23/25\n",
            "1719/1719 [==============================] - 6s 3ms/step - loss: 0.2765 - accuracy: 0.9036 - val_loss: 0.3381 - val_accuracy: 0.8812 - lr: 4.0938e-04\n",
            "Epoch 24/25\n",
            "1719/1719 [==============================] - 6s 3ms/step - loss: 0.2753 - accuracy: 0.9041 - val_loss: 0.3367 - val_accuracy: 0.8814 - lr: 2.5469e-04\n",
            "Epoch 25/25\n",
            "1719/1719 [==============================] - 6s 3ms/step - loss: 0.2744 - accuracy: 0.9044 - val_loss: 0.3368 - val_accuracy: 0.8822 - lr: 1.0000e-04\n"
          ]
        }
      ]
    },
    {
      "cell_type": "code",
      "source": [
        "plt.plot(history.epoch, history.history[\"lr\"], \"o-\")\n",
        "plt.axis([0, n_epochs - 1, 0, MAX_LR])\n",
        "plt.xlabel(\"Epoch\")\n",
        "plt.ylabel(\"Learning Rate\")\n",
        "plt.title(\"CyclicalLearningRateDecay\", fontsize=14)\n",
        "plt.grid(True)\n",
        "plt.show()"
      ],
      "metadata": {
        "colab": {
          "base_uri": "https://localhost:8080/",
          "height": 296
        },
        "id": "sq_UvbahSXmh",
        "outputId": "4b40e6b7-b2ef-4e8a-bb0d-ef550d72432b"
      },
      "execution_count": null,
      "outputs": [
        {
          "output_type": "display_data",
          "data": {
            "text/plain": [
              "<Figure size 432x288 with 1 Axes>"
            ],
            "image/png": "[encoded data removed]"
          },
          "metadata": {
            "needs_background": "light"
          }
        }
      ]
    }
  ]
}